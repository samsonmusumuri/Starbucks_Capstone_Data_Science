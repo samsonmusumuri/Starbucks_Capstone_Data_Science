{
 "cells": [
  {
   "cell_type": "markdown",
   "metadata": {},
   "source": [
    "# Starbucks Capstone Challenge\n",
    "\n",
    "### Introduction\n",
    "\n",
    "This data set contains simulated data that mimics customer behavior on the Starbucks rewards mobile app. Once every few days, Starbucks sends out an offer to users of the mobile app. An offer can be merely an advertisement for a drink or an actual offer such as a discount or BOGO (buy one, get one free). Some users might not receive any offer during certain weeks.\n",
    "\n",
    "Not all users receive the same offer, and that is the challenge to solve with this data set.\n",
    "\n",
    "Your task is to combine transaction, demographic and offer data to determine which demographic groups respond best to which offer a type. This data set is a simplified version of the real Starbucks app because the underlying simulator only has one product, whereas Starbucks actually sells dozens of products.\n",
    "\n",
    "Every offer has a validity period before the offer expires. As an example, a BOGO offer might be valid for only 5 days. You'll see in the data set that informational offers have a validity period even though these ads are merely providing information about a product; for example, if an informational offer has 7 days of validity, you can assume the customer is feeling the influence of the offer for 7 days after receiving the advertisement.\n",
    "\n",
    "You'll be given transactional data showing user purchases made on the app including the timestamp of purchase and the amount of money spent on a purchase. This transactional data also has a record for each offer that a user receives as well as a record for when a user actually views the offer. There are also records for when a user completes an offer. \n",
    "\n",
    "Keep in mind as well that someone using the app might make a purchase through the app without having received an offer or seen an offer.\n",
    "\n",
    "### Example\n",
    "\n",
    "To give an example, a user could receive a discount offer buy 10 dollars to get 2 off on Monday. The offer is valid for 10 days from receipt. If the customer accumulates at least 10 dollars in purchases during the validity period, the customer completes the offer.\n",
    "\n",
    "However, there are a few things to watch out for in this data set. Customers do not opt into the offers that they receive; in other words, a user can receive an offer, never actually view the offer, and still complete the offer. For example, a user might receive the \"buy 10 dollars get 2 dollars off offer\", but the user never opens the offer during the 10-day validity period. The customer spends 15 dollars during those ten days. There will be an offer completion record in the data set; however, the offer did not influence the customer because the customer never viewed the offer.\n",
    "\n",
    "### Cleaning\n",
    "\n",
    "This makes data cleaning especially important and tricky.\n",
    "\n",
    "You'll also want to take into account that some demographic groups will make purchases even if they don't receive an offer. From a business perspective, if a customer is going to make a 10-dollar purchase without an offer anyway, you wouldn't want to send a buy 10 dollars get 2 dollars off offer. You'll want to try to assess what a certain demographic group will buy when not receiving any offers.\n",
    "\n",
    "### Final Advice\n",
    "\n",
    "Because this is a capstone project, you are free to analyze the data any way you see fit. For example, you could build a machine learning model that predicts how much someone will spend based on demographics and offer a type. Or you could build a model that predicts whether someone will respond to an offer. Or, you don't need to build a machine learning model at all. You could develop a set of heuristics that determine what offer you should send to each customer (i.e., 75 percent of women customers who were 35 years old responded to offer A vs 40 percent from the same demographic to offer B, so send offer A)."
   ]
  },
  {
   "cell_type": "markdown",
   "metadata": {},
   "source": [
    "\n",
    "# Data Sets\n",
    "\n",
    "The data is contained in three files:\n",
    "\n",
    "* portfolio.json - containing offer ids and metadata about each offer (duration, type, etc.)\n",
    "* profile.json—demographic data for each customer\n",
    "* transcript.json—records for transactions, offers received, offers viewed, and offers completed\n",
    "\n",
    "Here is the schema and explanation of each variable in the files:\n",
    "\n",
    "**portfolio.json**\n",
    "* id (string) - offer id\n",
    "* offer_type (string)—type of offer i.e., BOGO, discount, informational\n",
    "* difficulty (int) - minimum required spend to complete an offer\n",
    "* reward (int)—reward given for completing an offer\n",
    "* duration (int)- time for offer to be open, in days\n",
    "* channels (list of strings)\n",
    "\n",
    "**profile.json**\n",
    "* age (int)- age of the customer\n",
    "* became_member_on (int)- date when customer created an app account\n",
    "* gender (str)- gender of the customer (note some entries contain 'O' for other rather than M or F)\n",
    "* id (str) - customer id\n",
    "* income (float) - customer's income\n",
    "\n",
    "**transcript.json**\n",
    "* event (str) - record description (i.e. transaction, offer received, offer viewed, etc.)\n",
    "* person (str) - customer id\n",
    "* time (int)- time in hours since the start of test. The data begins at time t=0\n",
    "* value - (dict of strings)- either an offer id or transaction amount depending on the record\n",
    "\n",
    "**Note:** If you are using the workspace, you will need to go to the terminal and run the command `conda update pandas` before reading in the files. This is because the version of pandas in the workspace cannot read in the transcript.json file correctly, but the newest version of pandas can. You can access the terminal from the orange icon in the top left of this notebook.\n",
    "\n",
    "You can see how to access the terminal and how the installation works using the two images below.  First, you need to access the terminal:\n",
    "\n",
    "<img src=\"pic1.png\"/>\n",
    "\n",
    "Then you will want to run the above command:\n",
    "\n",
    "<img src=\"pic2.png\"/>\n",
    "\n",
    "Finally, when you enter back into the notebook (use the jupyter icon again), you should be able to run the below cell without any errors."
   ]
  },
  {
   "cell_type": "markdown",
   "source": [
    "# Overview\n",
    "\n",
    "#### We have a thorough grasp of the behavioral tendencies of consumers over time because of the dataset’s time-series organization, which includes observations made at various times in time. Users receive offers every few days, and their interactions with the offers are tracked.\n",
    "\n",
    "### Some key features like…\n",
    "* ####  User Information: This contains details about the user’s age, gender, and household income, frequency of purchases, when did they become a member.\n",
    "\n",
    "* #### Offer Information: Each offer’s type, length, and other important information is collected.\n",
    "\n",
    "* #### User-App Interaction: Information is also recorded on the user’s interactions with the app and the offer. Included in this are whether they looked at the offer, how long it took them to look at it after it was received, and if they finished it.\n",
    "\n",
    "* #### Transactions: The collection also includes information about transactions, including the dollar value of each transaction.\n",
    "\n",
    "All these features collectively would help us build an effective ML model in our project."
   ],
   "metadata": {
    "collapsed": false
   }
  },
  {
   "cell_type": "markdown",
   "source": [
    "# My Strategy & Implementation\n",
    "\n",
    "- My end goal is to use machine learning classification models to predict customer responses to offers.  It involves  preprocessing of data, model selection and training, followed by model evaluation and potential optimization.\n",
    "- Since I have decided on a classification problem, we will be using only those models\n",
    "- The expected solution is a model that can accurately predict whether a customer will respond to a Starbucks offer based on their past behaviour and the characteristics of the offer itself.\n",
    "\n",
    "## Steps Involved:\n",
    "1) Exploratory Data Analysis\n",
    "2) Data Cleaning\n",
    "3) Data Modeling\n",
    "4) Evaluation\n",
    "5) Future Improvements"
   ],
   "metadata": {
    "collapsed": false
   }
  },
  {
   "cell_type": "code",
   "execution_count": 1515,
   "metadata": {
    "ExecuteTime": {
     "end_time": "2023-06-16T05:20:59.438231Z",
     "start_time": "2023-06-16T05:20:49.791767Z"
    }
   },
   "outputs": [],
   "source": [
    "import warnings\n",
    "import numpy as np\n",
    "import pandas as pd\n",
    "import seaborn as sns\n",
    "from subprocess import call\n",
    "from sklearn.svm import SVC\n",
    "import matplotlib.pyplot as plt\n",
    "from scipy.stats import uniform\n",
    "from sklearn.pipeline import Pipeline\n",
    "from sklearn.metrics import roc_curve, auc\n",
    "from sklearn.naive_bayes import GaussianNB\n",
    "from sklearn.metrics import confusion_matrix\n",
    "from sklearn.tree import DecisionTreeClassifier\n",
    "from sklearn.metrics import classification_report\n",
    "from sklearn.preprocessing import MinMaxScaler\n",
    "from sklearn.neighbors import KNeighborsClassifier\n",
    "from sklearn.model_selection import train_test_split\n",
    "from sklearn.linear_model import LogisticRegression\n",
    "from sklearn.ensemble import RandomForestClassifier\n",
    "from sklearn.model_selection import RandomizedSearchCV\n",
    "warnings.filterwarnings('ignore')\n",
    "%matplotlib inline\n",
    "\n",
    "# read in the json files\n",
    "portfolio = pd.read_json('data/portfolio.json', orient='records', lines=True)\n",
    "profile = pd.read_json('data/profile.json', orient='records', lines=True)\n",
    "transcript = pd.read_json('data/transcript.json', orient='records', lines=True)\n",
    "\n",
    "portfolio_copy = portfolio.copy()\n",
    "profile_copy = profile.copy()\n",
    "transcript_copy = transcript.copy()\n"
   ]
  },
  {
   "cell_type": "code",
   "execution_count": 1516,
   "metadata": {
    "ExecuteTime": {
     "end_time": "2023-06-16T05:20:59.451352Z",
     "start_time": "2023-06-16T05:20:59.438506Z"
    }
   },
   "outputs": [
    {
     "data": {
      "text/plain": "      gender  age                                id  became_member_on  \\\n0       None  118  68be06ca386d4c31939f3a4f0e3dd783          20170212   \n1          F   55  0610b486422d4921ae7d2bf64640c50b          20170715   \n2       None  118  38fe809add3b4fcf9315a9694bb96ff5          20180712   \n3          F   75  78afa995795e4d85b5d9ceeca43f5fef          20170509   \n4       None  118  a03223e636434f42ac4c3df47e8bac43          20170804   \n...      ...  ...                               ...               ...   \n16995      F   45  6d5f3a774f3d4714ab0c092238f3a1d7          20180604   \n16996      M   61  2cb4f97358b841b9a9773a7aa05a9d77          20180713   \n16997      M   49  01d26f638c274aa0b965d24cefe3183f          20170126   \n16998      F   83  9dc1421481194dcd9400aec7c9ae6366          20160307   \n16999      F   62  e4052622e5ba45a8b96b59aba68cf068          20170722   \n\n         income  \n0           NaN  \n1      112000.0  \n2           NaN  \n3      100000.0  \n4           NaN  \n...         ...  \n16995   54000.0  \n16996   72000.0  \n16997   73000.0  \n16998   50000.0  \n16999   82000.0  \n\n[17000 rows x 5 columns]",
      "text/html": "<div>\n<style scoped>\n    .dataframe tbody tr th:only-of-type {\n        vertical-align: middle;\n    }\n\n    .dataframe tbody tr th {\n        vertical-align: top;\n    }\n\n    .dataframe thead th {\n        text-align: right;\n    }\n</style>\n<table border=\"1\" class=\"dataframe\">\n  <thead>\n    <tr style=\"text-align: right;\">\n      <th></th>\n      <th>gender</th>\n      <th>age</th>\n      <th>id</th>\n      <th>became_member_on</th>\n      <th>income</th>\n    </tr>\n  </thead>\n  <tbody>\n    <tr>\n      <th>0</th>\n      <td>None</td>\n      <td>118</td>\n      <td>68be06ca386d4c31939f3a4f0e3dd783</td>\n      <td>20170212</td>\n      <td>NaN</td>\n    </tr>\n    <tr>\n      <th>1</th>\n      <td>F</td>\n      <td>55</td>\n      <td>0610b486422d4921ae7d2bf64640c50b</td>\n      <td>20170715</td>\n      <td>112000.0</td>\n    </tr>\n    <tr>\n      <th>2</th>\n      <td>None</td>\n      <td>118</td>\n      <td>38fe809add3b4fcf9315a9694bb96ff5</td>\n      <td>20180712</td>\n      <td>NaN</td>\n    </tr>\n    <tr>\n      <th>3</th>\n      <td>F</td>\n      <td>75</td>\n      <td>78afa995795e4d85b5d9ceeca43f5fef</td>\n      <td>20170509</td>\n      <td>100000.0</td>\n    </tr>\n    <tr>\n      <th>4</th>\n      <td>None</td>\n      <td>118</td>\n      <td>a03223e636434f42ac4c3df47e8bac43</td>\n      <td>20170804</td>\n      <td>NaN</td>\n    </tr>\n    <tr>\n      <th>...</th>\n      <td>...</td>\n      <td>...</td>\n      <td>...</td>\n      <td>...</td>\n      <td>...</td>\n    </tr>\n    <tr>\n      <th>16995</th>\n      <td>F</td>\n      <td>45</td>\n      <td>6d5f3a774f3d4714ab0c092238f3a1d7</td>\n      <td>20180604</td>\n      <td>54000.0</td>\n    </tr>\n    <tr>\n      <th>16996</th>\n      <td>M</td>\n      <td>61</td>\n      <td>2cb4f97358b841b9a9773a7aa05a9d77</td>\n      <td>20180713</td>\n      <td>72000.0</td>\n    </tr>\n    <tr>\n      <th>16997</th>\n      <td>M</td>\n      <td>49</td>\n      <td>01d26f638c274aa0b965d24cefe3183f</td>\n      <td>20170126</td>\n      <td>73000.0</td>\n    </tr>\n    <tr>\n      <th>16998</th>\n      <td>F</td>\n      <td>83</td>\n      <td>9dc1421481194dcd9400aec7c9ae6366</td>\n      <td>20160307</td>\n      <td>50000.0</td>\n    </tr>\n    <tr>\n      <th>16999</th>\n      <td>F</td>\n      <td>62</td>\n      <td>e4052622e5ba45a8b96b59aba68cf068</td>\n      <td>20170722</td>\n      <td>82000.0</td>\n    </tr>\n  </tbody>\n</table>\n<p>17000 rows × 5 columns</p>\n</div>"
     },
     "execution_count": 1516,
     "metadata": {},
     "output_type": "execute_result"
    }
   ],
   "source": [
    "profile"
   ]
  },
  {
   "cell_type": "code",
   "execution_count": 1517,
   "metadata": {
    "ExecuteTime": {
     "end_time": "2023-06-16T05:20:59.485651Z",
     "start_time": "2023-06-16T05:20:59.452040Z"
    }
   },
   "outputs": [
    {
     "data": {
      "text/plain": "   reward                      channels  difficulty  duration     offer_type  \\\n0      10       [email, mobile, social]          10         7           bogo   \n1      10  [web, email, mobile, social]          10         5           bogo   \n2       0          [web, email, mobile]           0         4  informational   \n3       5          [web, email, mobile]           5         7           bogo   \n4       5                  [web, email]          20        10       discount   \n5       3  [web, email, mobile, social]           7         7       discount   \n6       2  [web, email, mobile, social]          10        10       discount   \n7       0       [email, mobile, social]           0         3  informational   \n8       5  [web, email, mobile, social]           5         5           bogo   \n9       2          [web, email, mobile]          10         7       discount   \n\n                                 id  \n0  ae264e3637204a6fb9bb56bc8210ddfd  \n1  4d5c57ea9a6940dd891ad53e9dbe8da0  \n2  3f207df678b143eea3cee63160fa8bed  \n3  9b98b8c7a33c4b65b9aebfe6a799e6d9  \n4  0b1e1539f2cc45b7b9fa7c272da2e1d7  \n5  2298d6c36e964ae4a3e7e9706d1fb8c2  \n6  fafdcd668e3743c1bb461111dcafc2a4  \n7  5a8bc65990b245e5a138643cd4eb9837  \n8  f19421c1d4aa40978ebb69ca19b0e20d  \n9  2906b810c7d4411798c6938adc9daaa5  ",
      "text/html": "<div>\n<style scoped>\n    .dataframe tbody tr th:only-of-type {\n        vertical-align: middle;\n    }\n\n    .dataframe tbody tr th {\n        vertical-align: top;\n    }\n\n    .dataframe thead th {\n        text-align: right;\n    }\n</style>\n<table border=\"1\" class=\"dataframe\">\n  <thead>\n    <tr style=\"text-align: right;\">\n      <th></th>\n      <th>reward</th>\n      <th>channels</th>\n      <th>difficulty</th>\n      <th>duration</th>\n      <th>offer_type</th>\n      <th>id</th>\n    </tr>\n  </thead>\n  <tbody>\n    <tr>\n      <th>0</th>\n      <td>10</td>\n      <td>[email, mobile, social]</td>\n      <td>10</td>\n      <td>7</td>\n      <td>bogo</td>\n      <td>ae264e3637204a6fb9bb56bc8210ddfd</td>\n    </tr>\n    <tr>\n      <th>1</th>\n      <td>10</td>\n      <td>[web, email, mobile, social]</td>\n      <td>10</td>\n      <td>5</td>\n      <td>bogo</td>\n      <td>4d5c57ea9a6940dd891ad53e9dbe8da0</td>\n    </tr>\n    <tr>\n      <th>2</th>\n      <td>0</td>\n      <td>[web, email, mobile]</td>\n      <td>0</td>\n      <td>4</td>\n      <td>informational</td>\n      <td>3f207df678b143eea3cee63160fa8bed</td>\n    </tr>\n    <tr>\n      <th>3</th>\n      <td>5</td>\n      <td>[web, email, mobile]</td>\n      <td>5</td>\n      <td>7</td>\n      <td>bogo</td>\n      <td>9b98b8c7a33c4b65b9aebfe6a799e6d9</td>\n    </tr>\n    <tr>\n      <th>4</th>\n      <td>5</td>\n      <td>[web, email]</td>\n      <td>20</td>\n      <td>10</td>\n      <td>discount</td>\n      <td>0b1e1539f2cc45b7b9fa7c272da2e1d7</td>\n    </tr>\n    <tr>\n      <th>5</th>\n      <td>3</td>\n      <td>[web, email, mobile, social]</td>\n      <td>7</td>\n      <td>7</td>\n      <td>discount</td>\n      <td>2298d6c36e964ae4a3e7e9706d1fb8c2</td>\n    </tr>\n    <tr>\n      <th>6</th>\n      <td>2</td>\n      <td>[web, email, mobile, social]</td>\n      <td>10</td>\n      <td>10</td>\n      <td>discount</td>\n      <td>fafdcd668e3743c1bb461111dcafc2a4</td>\n    </tr>\n    <tr>\n      <th>7</th>\n      <td>0</td>\n      <td>[email, mobile, social]</td>\n      <td>0</td>\n      <td>3</td>\n      <td>informational</td>\n      <td>5a8bc65990b245e5a138643cd4eb9837</td>\n    </tr>\n    <tr>\n      <th>8</th>\n      <td>5</td>\n      <td>[web, email, mobile, social]</td>\n      <td>5</td>\n      <td>5</td>\n      <td>bogo</td>\n      <td>f19421c1d4aa40978ebb69ca19b0e20d</td>\n    </tr>\n    <tr>\n      <th>9</th>\n      <td>2</td>\n      <td>[web, email, mobile]</td>\n      <td>10</td>\n      <td>7</td>\n      <td>discount</td>\n      <td>2906b810c7d4411798c6938adc9daaa5</td>\n    </tr>\n  </tbody>\n</table>\n</div>"
     },
     "execution_count": 1517,
     "metadata": {},
     "output_type": "execute_result"
    }
   ],
   "source": [
    "portfolio"
   ]
  },
  {
   "cell_type": "code",
   "execution_count": 1518,
   "metadata": {
    "ExecuteTime": {
     "end_time": "2023-06-16T05:20:59.508282Z",
     "start_time": "2023-06-16T05:20:59.479778Z"
    }
   },
   "outputs": [
    {
     "data": {
      "text/plain": "                                  person           event  \\\n0       78afa995795e4d85b5d9ceeca43f5fef  offer received   \n1       a03223e636434f42ac4c3df47e8bac43  offer received   \n2       e2127556f4f64592b11af22de27a7932  offer received   \n3       8ec6ce2a7e7949b1bf142def7d0e0586  offer received   \n4       68617ca6246f4fbc85e91a2a49552598  offer received   \n...                                  ...             ...   \n306529  b3a1272bc9904337b331bf348c3e8c17     transaction   \n306530  68213b08d99a4ae1b0dcb72aebd9aa35     transaction   \n306531  a00058cf10334a308c68e7631c529907     transaction   \n306532  76ddbd6576844afe811f1a3c0fbb5bec     transaction   \n306533  c02b10e8752c4d8e9b73f918558531f7     transaction   \n\n                                                   value  time  \n0       {'offer id': '9b98b8c7a33c4b65b9aebfe6a799e6d9'}     0  \n1       {'offer id': '0b1e1539f2cc45b7b9fa7c272da2e1d7'}     0  \n2       {'offer id': '2906b810c7d4411798c6938adc9daaa5'}     0  \n3       {'offer id': 'fafdcd668e3743c1bb461111dcafc2a4'}     0  \n4       {'offer id': '4d5c57ea9a6940dd891ad53e9dbe8da0'}     0  \n...                                                  ...   ...  \n306529                    {'amount': 1.5899999999999999}   714  \n306530                                  {'amount': 9.53}   714  \n306531                                  {'amount': 3.61}   714  \n306532                    {'amount': 3.5300000000000002}   714  \n306533                                  {'amount': 4.05}   714  \n\n[306534 rows x 4 columns]",
      "text/html": "<div>\n<style scoped>\n    .dataframe tbody tr th:only-of-type {\n        vertical-align: middle;\n    }\n\n    .dataframe tbody tr th {\n        vertical-align: top;\n    }\n\n    .dataframe thead th {\n        text-align: right;\n    }\n</style>\n<table border=\"1\" class=\"dataframe\">\n  <thead>\n    <tr style=\"text-align: right;\">\n      <th></th>\n      <th>person</th>\n      <th>event</th>\n      <th>value</th>\n      <th>time</th>\n    </tr>\n  </thead>\n  <tbody>\n    <tr>\n      <th>0</th>\n      <td>78afa995795e4d85b5d9ceeca43f5fef</td>\n      <td>offer received</td>\n      <td>{'offer id': '9b98b8c7a33c4b65b9aebfe6a799e6d9'}</td>\n      <td>0</td>\n    </tr>\n    <tr>\n      <th>1</th>\n      <td>a03223e636434f42ac4c3df47e8bac43</td>\n      <td>offer received</td>\n      <td>{'offer id': '0b1e1539f2cc45b7b9fa7c272da2e1d7'}</td>\n      <td>0</td>\n    </tr>\n    <tr>\n      <th>2</th>\n      <td>e2127556f4f64592b11af22de27a7932</td>\n      <td>offer received</td>\n      <td>{'offer id': '2906b810c7d4411798c6938adc9daaa5'}</td>\n      <td>0</td>\n    </tr>\n    <tr>\n      <th>3</th>\n      <td>8ec6ce2a7e7949b1bf142def7d0e0586</td>\n      <td>offer received</td>\n      <td>{'offer id': 'fafdcd668e3743c1bb461111dcafc2a4'}</td>\n      <td>0</td>\n    </tr>\n    <tr>\n      <th>4</th>\n      <td>68617ca6246f4fbc85e91a2a49552598</td>\n      <td>offer received</td>\n      <td>{'offer id': '4d5c57ea9a6940dd891ad53e9dbe8da0'}</td>\n      <td>0</td>\n    </tr>\n    <tr>\n      <th>...</th>\n      <td>...</td>\n      <td>...</td>\n      <td>...</td>\n      <td>...</td>\n    </tr>\n    <tr>\n      <th>306529</th>\n      <td>b3a1272bc9904337b331bf348c3e8c17</td>\n      <td>transaction</td>\n      <td>{'amount': 1.5899999999999999}</td>\n      <td>714</td>\n    </tr>\n    <tr>\n      <th>306530</th>\n      <td>68213b08d99a4ae1b0dcb72aebd9aa35</td>\n      <td>transaction</td>\n      <td>{'amount': 9.53}</td>\n      <td>714</td>\n    </tr>\n    <tr>\n      <th>306531</th>\n      <td>a00058cf10334a308c68e7631c529907</td>\n      <td>transaction</td>\n      <td>{'amount': 3.61}</td>\n      <td>714</td>\n    </tr>\n    <tr>\n      <th>306532</th>\n      <td>76ddbd6576844afe811f1a3c0fbb5bec</td>\n      <td>transaction</td>\n      <td>{'amount': 3.5300000000000002}</td>\n      <td>714</td>\n    </tr>\n    <tr>\n      <th>306533</th>\n      <td>c02b10e8752c4d8e9b73f918558531f7</td>\n      <td>transaction</td>\n      <td>{'amount': 4.05}</td>\n      <td>714</td>\n    </tr>\n  </tbody>\n</table>\n<p>306534 rows × 4 columns</p>\n</div>"
     },
     "execution_count": 1518,
     "metadata": {},
     "output_type": "execute_result"
    }
   ],
   "source": [
    "transcript"
   ]
  },
  {
   "cell_type": "markdown",
   "source": [
    "# Exploratory Data Analysis"
   ],
   "metadata": {
    "collapsed": false
   }
  },
  {
   "cell_type": "markdown",
   "source": [
    "## Analyzing 'profile' dataset"
   ],
   "metadata": {
    "collapsed": false
   }
  },
  {
   "cell_type": "code",
   "execution_count": 1519,
   "metadata": {
    "ExecuteTime": {
     "end_time": "2023-06-16T05:20:59.626676Z",
     "start_time": "2023-06-16T05:20:59.495976Z"
    }
   },
   "outputs": [
    {
     "data": {
      "text/plain": "       gender           age                                id  \\\ncount   14825  17000.000000                             17000   \nunique      3           NaN                             17000   \ntop         M           NaN  68be06ca386d4c31939f3a4f0e3dd783   \nfreq     8484           NaN                                 1   \nmean      NaN     62.531412                               NaN   \nstd       NaN     26.738580                               NaN   \nmin       NaN     18.000000                               NaN   \n25%       NaN     45.000000                               NaN   \n50%       NaN     58.000000                               NaN   \n75%       NaN     73.000000                               NaN   \nmax       NaN    118.000000                               NaN   \n\n        became_member_on         income  \ncount       1.700000e+04   14825.000000  \nunique               NaN            NaN  \ntop                  NaN            NaN  \nfreq                 NaN            NaN  \nmean        2.016703e+07   65404.991568  \nstd         1.167750e+04   21598.299410  \nmin         2.013073e+07   30000.000000  \n25%         2.016053e+07   49000.000000  \n50%         2.017080e+07   64000.000000  \n75%         2.017123e+07   80000.000000  \nmax         2.018073e+07  120000.000000  ",
      "text/html": "<div>\n<style scoped>\n    .dataframe tbody tr th:only-of-type {\n        vertical-align: middle;\n    }\n\n    .dataframe tbody tr th {\n        vertical-align: top;\n    }\n\n    .dataframe thead th {\n        text-align: right;\n    }\n</style>\n<table border=\"1\" class=\"dataframe\">\n  <thead>\n    <tr style=\"text-align: right;\">\n      <th></th>\n      <th>gender</th>\n      <th>age</th>\n      <th>id</th>\n      <th>became_member_on</th>\n      <th>income</th>\n    </tr>\n  </thead>\n  <tbody>\n    <tr>\n      <th>count</th>\n      <td>14825</td>\n      <td>17000.000000</td>\n      <td>17000</td>\n      <td>1.700000e+04</td>\n      <td>14825.000000</td>\n    </tr>\n    <tr>\n      <th>unique</th>\n      <td>3</td>\n      <td>NaN</td>\n      <td>17000</td>\n      <td>NaN</td>\n      <td>NaN</td>\n    </tr>\n    <tr>\n      <th>top</th>\n      <td>M</td>\n      <td>NaN</td>\n      <td>68be06ca386d4c31939f3a4f0e3dd783</td>\n      <td>NaN</td>\n      <td>NaN</td>\n    </tr>\n    <tr>\n      <th>freq</th>\n      <td>8484</td>\n      <td>NaN</td>\n      <td>1</td>\n      <td>NaN</td>\n      <td>NaN</td>\n    </tr>\n    <tr>\n      <th>mean</th>\n      <td>NaN</td>\n      <td>62.531412</td>\n      <td>NaN</td>\n      <td>2.016703e+07</td>\n      <td>65404.991568</td>\n    </tr>\n    <tr>\n      <th>std</th>\n      <td>NaN</td>\n      <td>26.738580</td>\n      <td>NaN</td>\n      <td>1.167750e+04</td>\n      <td>21598.299410</td>\n    </tr>\n    <tr>\n      <th>min</th>\n      <td>NaN</td>\n      <td>18.000000</td>\n      <td>NaN</td>\n      <td>2.013073e+07</td>\n      <td>30000.000000</td>\n    </tr>\n    <tr>\n      <th>25%</th>\n      <td>NaN</td>\n      <td>45.000000</td>\n      <td>NaN</td>\n      <td>2.016053e+07</td>\n      <td>49000.000000</td>\n    </tr>\n    <tr>\n      <th>50%</th>\n      <td>NaN</td>\n      <td>58.000000</td>\n      <td>NaN</td>\n      <td>2.017080e+07</td>\n      <td>64000.000000</td>\n    </tr>\n    <tr>\n      <th>75%</th>\n      <td>NaN</td>\n      <td>73.000000</td>\n      <td>NaN</td>\n      <td>2.017123e+07</td>\n      <td>80000.000000</td>\n    </tr>\n    <tr>\n      <th>max</th>\n      <td>NaN</td>\n      <td>118.000000</td>\n      <td>NaN</td>\n      <td>2.018073e+07</td>\n      <td>120000.000000</td>\n    </tr>\n  </tbody>\n</table>\n</div>"
     },
     "execution_count": 1519,
     "metadata": {},
     "output_type": "execute_result"
    }
   ],
   "source": [
    "profile.describe(include='all')"
   ]
  },
  {
   "cell_type": "code",
   "execution_count": 1520,
   "outputs": [
    {
     "data": {
      "text/plain": "  gender  age                                id  became_member_on    income\n0   None  118  68be06ca386d4c31939f3a4f0e3dd783          20170212       NaN\n1      F   55  0610b486422d4921ae7d2bf64640c50b          20170715  112000.0\n2   None  118  38fe809add3b4fcf9315a9694bb96ff5          20180712       NaN\n3      F   75  78afa995795e4d85b5d9ceeca43f5fef          20170509  100000.0\n4   None  118  a03223e636434f42ac4c3df47e8bac43          20170804       NaN",
      "text/html": "<div>\n<style scoped>\n    .dataframe tbody tr th:only-of-type {\n        vertical-align: middle;\n    }\n\n    .dataframe tbody tr th {\n        vertical-align: top;\n    }\n\n    .dataframe thead th {\n        text-align: right;\n    }\n</style>\n<table border=\"1\" class=\"dataframe\">\n  <thead>\n    <tr style=\"text-align: right;\">\n      <th></th>\n      <th>gender</th>\n      <th>age</th>\n      <th>id</th>\n      <th>became_member_on</th>\n      <th>income</th>\n    </tr>\n  </thead>\n  <tbody>\n    <tr>\n      <th>0</th>\n      <td>None</td>\n      <td>118</td>\n      <td>68be06ca386d4c31939f3a4f0e3dd783</td>\n      <td>20170212</td>\n      <td>NaN</td>\n    </tr>\n    <tr>\n      <th>1</th>\n      <td>F</td>\n      <td>55</td>\n      <td>0610b486422d4921ae7d2bf64640c50b</td>\n      <td>20170715</td>\n      <td>112000.0</td>\n    </tr>\n    <tr>\n      <th>2</th>\n      <td>None</td>\n      <td>118</td>\n      <td>38fe809add3b4fcf9315a9694bb96ff5</td>\n      <td>20180712</td>\n      <td>NaN</td>\n    </tr>\n    <tr>\n      <th>3</th>\n      <td>F</td>\n      <td>75</td>\n      <td>78afa995795e4d85b5d9ceeca43f5fef</td>\n      <td>20170509</td>\n      <td>100000.0</td>\n    </tr>\n    <tr>\n      <th>4</th>\n      <td>None</td>\n      <td>118</td>\n      <td>a03223e636434f42ac4c3df47e8bac43</td>\n      <td>20170804</td>\n      <td>NaN</td>\n    </tr>\n  </tbody>\n</table>\n</div>"
     },
     "execution_count": 1520,
     "metadata": {},
     "output_type": "execute_result"
    }
   ],
   "source": [
    "profile.head(5)"
   ],
   "metadata": {
    "collapsed": false,
    "ExecuteTime": {
     "end_time": "2023-06-16T05:20:59.626969Z",
     "start_time": "2023-06-16T05:20:59.549094Z"
    }
   }
  },
  {
   "cell_type": "code",
   "execution_count": 1521,
   "outputs": [
    {
     "data": {
      "text/plain": "gender              2175\nage                    0\nid                     0\nbecame_member_on       0\nincome              2175\ndtype: int64"
     },
     "execution_count": 1521,
     "metadata": {},
     "output_type": "execute_result"
    }
   ],
   "source": [
    "profile.isna().sum()"
   ],
   "metadata": {
    "collapsed": false,
    "ExecuteTime": {
     "end_time": "2023-06-16T05:20:59.628317Z",
     "start_time": "2023-06-16T05:20:59.554642Z"
    }
   }
  },
  {
   "cell_type": "markdown",
   "source": [
    "2175 missing values in both gender and income columns. We will analyze it further in the data cleaning section"
   ],
   "metadata": {
    "collapsed": false
   }
  },
  {
   "cell_type": "code",
   "execution_count": 1522,
   "outputs": [
    {
     "name": "stdout",
     "output_type": "stream",
     "text": [
      "Percentage of Male: 49.91%\n",
      "Percentage of Female: 36.05%\n",
      "Percentage of Other: 1.25%\n"
     ]
    },
    {
     "data": {
      "text/plain": "<Figure size 640x480 with 1 Axes>",
      "image/png": "[encoded data removed]"
     },
     "metadata": {},
     "output_type": "display_data"
    }
   ],
   "source": [
    "male = (profile['gender'].value_counts()/len(profile['gender'])*100).round(2)[0]\n",
    "female = (profile['gender'].value_counts()/len(profile['gender'])*100).round(2)[1]\n",
    "other = (profile['gender'].value_counts()/len(profile['gender'])*100).round(2)[2]\n",
    "\n",
    "print(\"Percentage of Male: {}%\".format(male))\n",
    "print(\"Percentage of Female: {}%\".format(female))\n",
    "print(\"Percentage of Other: {}%\".format(other))\n",
    "\n",
    "sns.countplot(x='gender', data=profile,order=['M','F','O'])\n",
    "plt.title(\"Distribution of Gender\")\n",
    "plt.xlabel(\"Gender\")\n",
    "plt.ylabel(\"Count\");"
   ],
   "metadata": {
    "collapsed": false,
    "ExecuteTime": {
     "end_time": "2023-06-16T05:20:59.963279Z",
     "start_time": "2023-06-16T05:20:59.583682Z"
    }
   }
  },
  {
   "cell_type": "markdown",
   "source": [
    "We see that close to 50% of the dataset entries consist of males"
   ],
   "metadata": {
    "collapsed": false
   }
  },
  {
   "cell_type": "code",
   "execution_count": 1523,
   "outputs": [
    {
     "data": {
      "text/plain": "<Figure size 640x480 with 1 Axes>",
      "image/png": "[encoded data removed]"
     },
     "metadata": {},
     "output_type": "display_data"
    }
   ],
   "source": [
    "# Plot for average age by gender\n",
    "\n",
    "male_avg = (np.mean(profile[profile['gender'] == 'M'])[0]).round(2)\n",
    "female_avg = (np.mean(profile[profile['gender'] == 'F'])[0]).round(2)\n",
    "\n",
    "values = [male_avg,female_avg]\n",
    "\n",
    "for i, value in enumerate(values):\n",
    "    plt.text(i, value, str(value), ha='center', va='bottom')\n",
    "\n",
    "plt.bar(['Male','Female'],[male_avg,female_avg])\n",
    "plt.ylabel('Average Age')\n",
    "plt.title('Average Age by Gender');"
   ],
   "metadata": {
    "collapsed": false,
    "ExecuteTime": {
     "end_time": "2023-06-16T05:21:00.264276Z",
     "start_time": "2023-06-16T05:20:59.900193Z"
    }
   }
  },
  {
   "cell_type": "code",
   "execution_count": 1524,
   "outputs": [
    {
     "data": {
      "text/plain": "      gender  age                                id  became_member_on  \\\n0       None  118  68be06ca386d4c31939f3a4f0e3dd783          20170212   \n1          F   55  0610b486422d4921ae7d2bf64640c50b          20170715   \n2       None  118  38fe809add3b4fcf9315a9694bb96ff5          20180712   \n3          F   75  78afa995795e4d85b5d9ceeca43f5fef          20170509   \n4       None  118  a03223e636434f42ac4c3df47e8bac43          20170804   \n...      ...  ...                               ...               ...   \n16995      F   45  6d5f3a774f3d4714ab0c092238f3a1d7          20180604   \n16996      M   61  2cb4f97358b841b9a9773a7aa05a9d77          20180713   \n16997      M   49  01d26f638c274aa0b965d24cefe3183f          20170126   \n16998      F   83  9dc1421481194dcd9400aec7c9ae6366          20160307   \n16999      F   62  e4052622e5ba45a8b96b59aba68cf068          20170722   \n\n         income  \n0           NaN  \n1      112000.0  \n2           NaN  \n3      100000.0  \n4           NaN  \n...         ...  \n16995   54000.0  \n16996   72000.0  \n16997   73000.0  \n16998   50000.0  \n16999   82000.0  \n\n[17000 rows x 5 columns]",
      "text/html": "<div>\n<style scoped>\n    .dataframe tbody tr th:only-of-type {\n        vertical-align: middle;\n    }\n\n    .dataframe tbody tr th {\n        vertical-align: top;\n    }\n\n    .dataframe thead th {\n        text-align: right;\n    }\n</style>\n<table border=\"1\" class=\"dataframe\">\n  <thead>\n    <tr style=\"text-align: right;\">\n      <th></th>\n      <th>gender</th>\n      <th>age</th>\n      <th>id</th>\n      <th>became_member_on</th>\n      <th>income</th>\n    </tr>\n  </thead>\n  <tbody>\n    <tr>\n      <th>0</th>\n      <td>None</td>\n      <td>118</td>\n      <td>68be06ca386d4c31939f3a4f0e3dd783</td>\n      <td>20170212</td>\n      <td>NaN</td>\n    </tr>\n    <tr>\n      <th>1</th>\n      <td>F</td>\n      <td>55</td>\n      <td>0610b486422d4921ae7d2bf64640c50b</td>\n      <td>20170715</td>\n      <td>112000.0</td>\n    </tr>\n    <tr>\n      <th>2</th>\n      <td>None</td>\n      <td>118</td>\n      <td>38fe809add3b4fcf9315a9694bb96ff5</td>\n      <td>20180712</td>\n      <td>NaN</td>\n    </tr>\n    <tr>\n      <th>3</th>\n      <td>F</td>\n      <td>75</td>\n      <td>78afa995795e4d85b5d9ceeca43f5fef</td>\n      <td>20170509</td>\n      <td>100000.0</td>\n    </tr>\n    <tr>\n      <th>4</th>\n      <td>None</td>\n      <td>118</td>\n      <td>a03223e636434f42ac4c3df47e8bac43</td>\n      <td>20170804</td>\n      <td>NaN</td>\n    </tr>\n    <tr>\n      <th>...</th>\n      <td>...</td>\n      <td>...</td>\n      <td>...</td>\n      <td>...</td>\n      <td>...</td>\n    </tr>\n    <tr>\n      <th>16995</th>\n      <td>F</td>\n      <td>45</td>\n      <td>6d5f3a774f3d4714ab0c092238f3a1d7</td>\n      <td>20180604</td>\n      <td>54000.0</td>\n    </tr>\n    <tr>\n      <th>16996</th>\n      <td>M</td>\n      <td>61</td>\n      <td>2cb4f97358b841b9a9773a7aa05a9d77</td>\n      <td>20180713</td>\n      <td>72000.0</td>\n    </tr>\n    <tr>\n      <th>16997</th>\n      <td>M</td>\n      <td>49</td>\n      <td>01d26f638c274aa0b965d24cefe3183f</td>\n      <td>20170126</td>\n      <td>73000.0</td>\n    </tr>\n    <tr>\n      <th>16998</th>\n      <td>F</td>\n      <td>83</td>\n      <td>9dc1421481194dcd9400aec7c9ae6366</td>\n      <td>20160307</td>\n      <td>50000.0</td>\n    </tr>\n    <tr>\n      <th>16999</th>\n      <td>F</td>\n      <td>62</td>\n      <td>e4052622e5ba45a8b96b59aba68cf068</td>\n      <td>20170722</td>\n      <td>82000.0</td>\n    </tr>\n  </tbody>\n</table>\n<p>17000 rows × 5 columns</p>\n</div>"
     },
     "execution_count": 1524,
     "metadata": {},
     "output_type": "execute_result"
    }
   ],
   "source": [
    "profile"
   ],
   "metadata": {
    "collapsed": false,
    "ExecuteTime": {
     "end_time": "2023-06-16T05:21:00.278366Z",
     "start_time": "2023-06-16T05:21:00.272232Z"
    }
   }
  },
  {
   "cell_type": "markdown",
   "source": [
    "Renaming the column which could be merged later on with the transcript dataset"
   ],
   "metadata": {
    "collapsed": false
   }
  },
  {
   "cell_type": "code",
   "execution_count": 1525,
   "outputs": [],
   "source": [
    "profile.rename(columns={\"id\":\"customer_id\"},inplace=True)"
   ],
   "metadata": {
    "collapsed": false,
    "ExecuteTime": {
     "end_time": "2023-06-16T05:21:00.387941Z",
     "start_time": "2023-06-16T05:21:00.281602Z"
    }
   }
  },
  {
   "cell_type": "code",
   "execution_count": 1526,
   "outputs": [],
   "source": [
    "# Converting the column to datetime format\n",
    "profile['became_member_on'] = pd.to_datetime(profile['became_member_on'],format = \"%Y%m%d\")"
   ],
   "metadata": {
    "collapsed": false,
    "ExecuteTime": {
     "end_time": "2023-06-16T05:21:00.388124Z",
     "start_time": "2023-06-16T05:21:00.291332Z"
    }
   }
  },
  {
   "cell_type": "code",
   "execution_count": 1713,
   "outputs": [
    {
     "data": {
      "text/plain": "<Figure size 640x480 with 1 Axes>",
      "image/png": "[encoded data removed]"
     },
     "metadata": {},
     "output_type": "display_data"
    }
   ],
   "source": [
    "# Pie chart\n",
    "date_counts = profile['became_member_on'].dt.year.value_counts().sort_index()\n",
    "plt.pie(date_counts.values, labels=date_counts.index, autopct='%1.1f%%')\n",
    "plt.title('Date Proportions by Year')\n",
    "plt.show()"
   ],
   "metadata": {
    "collapsed": false,
    "ExecuteTime": {
     "end_time": "2023-06-18T06:51:50.492299Z",
     "start_time": "2023-06-18T06:51:50.037021Z"
    }
   }
  },
  {
   "cell_type": "markdown",
   "source": [
    "Approximately 39% of individuals became members in the peak year, 2017, while there was a relatively low rate with 1.7 % of new members in 2013."
   ],
   "metadata": {
    "collapsed": false
   }
  },
  {
   "cell_type": "markdown",
   "source": [
    "## Analyzing 'transcript'"
   ],
   "metadata": {
    "collapsed": false
   }
  },
  {
   "cell_type": "code",
   "execution_count": 1528,
   "outputs": [
    {
     "data": {
      "text/plain": "                                  person           event  \\\n0       78afa995795e4d85b5d9ceeca43f5fef  offer received   \n1       a03223e636434f42ac4c3df47e8bac43  offer received   \n2       e2127556f4f64592b11af22de27a7932  offer received   \n3       8ec6ce2a7e7949b1bf142def7d0e0586  offer received   \n4       68617ca6246f4fbc85e91a2a49552598  offer received   \n...                                  ...             ...   \n306529  b3a1272bc9904337b331bf348c3e8c17     transaction   \n306530  68213b08d99a4ae1b0dcb72aebd9aa35     transaction   \n306531  a00058cf10334a308c68e7631c529907     transaction   \n306532  76ddbd6576844afe811f1a3c0fbb5bec     transaction   \n306533  c02b10e8752c4d8e9b73f918558531f7     transaction   \n\n                                                   value  time  \n0       {'offer id': '9b98b8c7a33c4b65b9aebfe6a799e6d9'}     0  \n1       {'offer id': '0b1e1539f2cc45b7b9fa7c272da2e1d7'}     0  \n2       {'offer id': '2906b810c7d4411798c6938adc9daaa5'}     0  \n3       {'offer id': 'fafdcd668e3743c1bb461111dcafc2a4'}     0  \n4       {'offer id': '4d5c57ea9a6940dd891ad53e9dbe8da0'}     0  \n...                                                  ...   ...  \n306529                    {'amount': 1.5899999999999999}   714  \n306530                                  {'amount': 9.53}   714  \n306531                                  {'amount': 3.61}   714  \n306532                    {'amount': 3.5300000000000002}   714  \n306533                                  {'amount': 4.05}   714  \n\n[306534 rows x 4 columns]",
      "text/html": "<div>\n<style scoped>\n    .dataframe tbody tr th:only-of-type {\n        vertical-align: middle;\n    }\n\n    .dataframe tbody tr th {\n        vertical-align: top;\n    }\n\n    .dataframe thead th {\n        text-align: right;\n    }\n</style>\n<table border=\"1\" class=\"dataframe\">\n  <thead>\n    <tr style=\"text-align: right;\">\n      <th></th>\n      <th>person</th>\n      <th>event</th>\n      <th>value</th>\n      <th>time</th>\n    </tr>\n  </thead>\n  <tbody>\n    <tr>\n      <th>0</th>\n      <td>78afa995795e4d85b5d9ceeca43f5fef</td>\n      <td>offer received</td>\n      <td>{'offer id': '9b98b8c7a33c4b65b9aebfe6a799e6d9'}</td>\n      <td>0</td>\n    </tr>\n    <tr>\n      <th>1</th>\n      <td>a03223e636434f42ac4c3df47e8bac43</td>\n      <td>offer received</td>\n      <td>{'offer id': '0b1e1539f2cc45b7b9fa7c272da2e1d7'}</td>\n      <td>0</td>\n    </tr>\n    <tr>\n      <th>2</th>\n      <td>e2127556f4f64592b11af22de27a7932</td>\n      <td>offer received</td>\n      <td>{'offer id': '2906b810c7d4411798c6938adc9daaa5'}</td>\n      <td>0</td>\n    </tr>\n    <tr>\n      <th>3</th>\n      <td>8ec6ce2a7e7949b1bf142def7d0e0586</td>\n      <td>offer received</td>\n      <td>{'offer id': 'fafdcd668e3743c1bb461111dcafc2a4'}</td>\n      <td>0</td>\n    </tr>\n    <tr>\n      <th>4</th>\n      <td>68617ca6246f4fbc85e91a2a49552598</td>\n      <td>offer received</td>\n      <td>{'offer id': '4d5c57ea9a6940dd891ad53e9dbe8da0'}</td>\n      <td>0</td>\n    </tr>\n    <tr>\n      <th>...</th>\n      <td>...</td>\n      <td>...</td>\n      <td>...</td>\n      <td>...</td>\n    </tr>\n    <tr>\n      <th>306529</th>\n      <td>b3a1272bc9904337b331bf348c3e8c17</td>\n      <td>transaction</td>\n      <td>{'amount': 1.5899999999999999}</td>\n      <td>714</td>\n    </tr>\n    <tr>\n      <th>306530</th>\n      <td>68213b08d99a4ae1b0dcb72aebd9aa35</td>\n      <td>transaction</td>\n      <td>{'amount': 9.53}</td>\n      <td>714</td>\n    </tr>\n    <tr>\n      <th>306531</th>\n      <td>a00058cf10334a308c68e7631c529907</td>\n      <td>transaction</td>\n      <td>{'amount': 3.61}</td>\n      <td>714</td>\n    </tr>\n    <tr>\n      <th>306532</th>\n      <td>76ddbd6576844afe811f1a3c0fbb5bec</td>\n      <td>transaction</td>\n      <td>{'amount': 3.5300000000000002}</td>\n      <td>714</td>\n    </tr>\n    <tr>\n      <th>306533</th>\n      <td>c02b10e8752c4d8e9b73f918558531f7</td>\n      <td>transaction</td>\n      <td>{'amount': 4.05}</td>\n      <td>714</td>\n    </tr>\n  </tbody>\n</table>\n<p>306534 rows × 4 columns</p>\n</div>"
     },
     "execution_count": 1528,
     "metadata": {},
     "output_type": "execute_result"
    }
   ],
   "source": [
    "transcript"
   ],
   "metadata": {
    "collapsed": false,
    "ExecuteTime": {
     "end_time": "2023-06-16T05:21:00.527549Z",
     "start_time": "2023-06-16T05:21:00.520257Z"
    }
   }
  },
  {
   "cell_type": "code",
   "execution_count": 1529,
   "outputs": [
    {
     "data": {
      "text/plain": "person    0\nevent     0\nvalue     0\ntime      0\ndtype: int64"
     },
     "execution_count": 1529,
     "metadata": {},
     "output_type": "execute_result"
    }
   ],
   "source": [
    "transcript.isna().sum()"
   ],
   "metadata": {
    "collapsed": false,
    "ExecuteTime": {
     "end_time": "2023-06-16T05:21:00.734463Z",
     "start_time": "2023-06-16T05:21:00.526569Z"
    }
   }
  },
  {
   "cell_type": "markdown",
   "source": [
    "No null values in this dataset"
   ],
   "metadata": {
    "collapsed": false
   }
  },
  {
   "cell_type": "code",
   "execution_count": 1530,
   "outputs": [
    {
     "data": {
      "text/plain": "array(['offer received', 'offer viewed', 'transaction', 'offer completed'],\n      dtype=object)"
     },
     "execution_count": 1530,
     "metadata": {},
     "output_type": "execute_result"
    }
   ],
   "source": [
    "transcript['event'].unique()"
   ],
   "metadata": {
    "collapsed": false,
    "ExecuteTime": {
     "end_time": "2023-06-16T05:21:00.803901Z",
     "start_time": "2023-06-16T05:21:00.721366Z"
    }
   }
  },
  {
   "cell_type": "code",
   "execution_count": 1531,
   "outputs": [
    {
     "name": "stdout",
     "output_type": "stream",
     "text": [
      "Percentage of transaction is 45.33%\n",
      "Percentage of offer received is 24.88%\n",
      "Percentage of offer viewed is 18.83%\n",
      "Percentage of offer completed is 10.95%\n"
     ]
    },
    {
     "data": {
      "text/plain": "<Figure size 640x480 with 1 Axes>",
      "image/png": "[encoded data removed]"
     },
     "metadata": {},
     "output_type": "display_data"
    }
   ],
   "source": [
    "# Plotting the event distribution\n",
    "event_counts = transcript['event'].value_counts()\n",
    "event_percentages = {event: (count / len(transcript) * 100) for event, count in event_counts.items()}\n",
    "\n",
    "for key,value in event_percentages.items():\n",
    "    print(\"Percentage of {} is {}%\".format(key,round(value,2)))\n",
    "\n",
    "plt.bar(event_percentages.keys(), event_percentages.values())\n",
    "plt.title('Event Distribution')\n",
    "plt.xlabel('Event')\n",
    "plt.ylabel('Percentage')\n",
    "plt.xticks(rotation=45);"
   ],
   "metadata": {
    "collapsed": false,
    "ExecuteTime": {
     "end_time": "2023-06-16T05:21:01.080171Z",
     "start_time": "2023-06-16T05:21:00.866234Z"
    }
   }
  },
  {
   "cell_type": "markdown",
   "source": [
    "- It is observed that the majority of events are categorized as 'transaction' with a percentage of 45.33%.\n",
    "- This indicates that a significant portion of the data represents customer transactions.\n",
    "- The second most frequent event is 'offer received' with a percentage of 24.88%, suggesting that a considerable number of customers received promotional offers.\n",
    "- The 'offer viewed' event follows closely with a percentage of 18.83%, indicating that a substantial portion of customers actually viewed the offers they received.\n",
    "- Lastly, 'offer completed' accounts for 10.95% of the events, suggesting that a smaller but notable percentage of customers completed the promotional offers they received."
   ],
   "metadata": {
    "collapsed": false
   }
  },
  {
   "cell_type": "code",
   "execution_count": 1532,
   "outputs": [
    {
     "data": {
      "text/plain": "{'offer id': '2298d6c36e964ae4a3e7e9706d1fb8c2'}    14983\n{'offer id': 'fafdcd668e3743c1bb461111dcafc2a4'}    14924\n{'offer id': '4d5c57ea9a6940dd891ad53e9dbe8da0'}    14891\n{'offer id': 'f19421c1d4aa40978ebb69ca19b0e20d'}    14835\n{'offer id': 'ae264e3637204a6fb9bb56bc8210ddfd'}    14374\n                                                    ...  \n{'amount': 42.31}                                       1\n{'amount': 44.62}                                       1\n{'amount': 42.27}                                       1\n{'amount': 108.89}                                      1\n{'amount': 476.33}                                      1\nName: value, Length: 5121, dtype: int64"
     },
     "execution_count": 1532,
     "metadata": {},
     "output_type": "execute_result"
    }
   ],
   "source": [
    "transcript['value'].value_counts()"
   ],
   "metadata": {
    "collapsed": false,
    "ExecuteTime": {
     "end_time": "2023-06-16T05:21:32.129775Z",
     "start_time": "2023-06-16T05:21:32.099317Z"
    }
   }
  },
  {
   "cell_type": "code",
   "execution_count": 1533,
   "outputs": [],
   "source": [
    "def extract_values(val, key1, key2=None):\n",
    "    \"\"\"\n",
    "        Extracts values from a dictionary-like object based on the provided keys.\n",
    "        Args:\n",
    "            val (dict): A dictionary-like object.\n",
    "            key1 (str): The first key to extract the value from.\n",
    "            key2 (str, optional): The second key to extract the value from if the first key is not found. Defaults to None.\n",
    "\n",
    "        Returns:\n",
    "            The value corresponding to key1 or key2 if found in the dictionary, otherwise None.\n",
    "    \"\"\"\n",
    "    if key2:\n",
    "        return val.get(key1) or val.get(key2)\n",
    "    else:\n",
    "        return val.get(key1)\n",
    "\n",
    "transcript['offer_id'] = transcript['value'].apply(extract_values, args=('offer_id', 'offer id'))\n",
    "transcript['amount'] = transcript['value'].apply(extract_values, args=('amount',))"
   ],
   "metadata": {
    "collapsed": false,
    "ExecuteTime": {
     "end_time": "2023-06-16T05:21:32.582120Z",
     "start_time": "2023-06-16T05:21:32.133743Z"
    }
   }
  },
  {
   "cell_type": "code",
   "execution_count": 1534,
   "outputs": [
    {
     "data": {
      "text/plain": "array([   nan,   0.83,  34.56, ..., 685.07, 405.04, 476.33])"
     },
     "execution_count": 1534,
     "metadata": {},
     "output_type": "execute_result"
    }
   ],
   "source": [
    "transcript['amount'].unique()"
   ],
   "metadata": {
    "collapsed": false,
    "ExecuteTime": {
     "end_time": "2023-06-16T05:21:32.598481Z",
     "start_time": "2023-06-16T05:21:32.582973Z"
    }
   }
  },
  {
   "cell_type": "markdown",
   "source": [
    "Renaming the columns for future merge operation"
   ],
   "metadata": {
    "collapsed": false
   }
  },
  {
   "cell_type": "code",
   "execution_count": 1535,
   "outputs": [],
   "source": [
    "# Renaming the columns\n",
    "transcript.rename(columns={\"offer id\":\"offer_id\",\"person\":\"customer_id\"},inplace=True)"
   ],
   "metadata": {
    "collapsed": false,
    "ExecuteTime": {
     "end_time": "2023-06-16T05:21:32.605376Z",
     "start_time": "2023-06-16T05:21:32.599406Z"
    }
   }
  },
  {
   "cell_type": "markdown",
   "source": [
    "# Data Cleaning\n",
    "\n",
    "## Profile dataset"
   ],
   "metadata": {
    "collapsed": false
   }
  },
  {
   "cell_type": "code",
   "execution_count": 1537,
   "outputs": [
    {
     "data": {
      "text/plain": "array([None, 'F', 'M', 'O'], dtype=object)"
     },
     "execution_count": 1537,
     "metadata": {},
     "output_type": "execute_result"
    }
   ],
   "source": [
    "profile['gender'].unique()"
   ],
   "metadata": {
    "collapsed": false,
    "ExecuteTime": {
     "end_time": "2023-06-16T05:21:32.658127Z",
     "start_time": "2023-06-16T05:21:32.625985Z"
    }
   }
  },
  {
   "cell_type": "code",
   "execution_count": 1538,
   "outputs": [],
   "source": [
    "# Creating dummy variables for gender column\n",
    "\n",
    "profile = pd.get_dummies(profile,columns=['gender'])\n",
    "profile.rename(columns={\"gender_F\":\"female\",\"gender_M\":\"male\",\"gender_O\":\"other_gender\"},inplace=True)"
   ],
   "metadata": {
    "collapsed": false,
    "ExecuteTime": {
     "end_time": "2023-06-16T05:21:32.658202Z",
     "start_time": "2023-06-16T05:21:32.638004Z"
    }
   }
  },
  {
   "cell_type": "code",
   "execution_count": 1539,
   "outputs": [
    {
     "data": {
      "text/plain": "       age                       customer_id became_member_on    income  \\\n0      118  68be06ca386d4c31939f3a4f0e3dd783       2017-02-12       NaN   \n1       55  0610b486422d4921ae7d2bf64640c50b       2017-07-15  112000.0   \n2      118  38fe809add3b4fcf9315a9694bb96ff5       2018-07-12       NaN   \n3       75  78afa995795e4d85b5d9ceeca43f5fef       2017-05-09  100000.0   \n4      118  a03223e636434f42ac4c3df47e8bac43       2017-08-04       NaN   \n...    ...                               ...              ...       ...   \n16995   45  6d5f3a774f3d4714ab0c092238f3a1d7       2018-06-04   54000.0   \n16996   61  2cb4f97358b841b9a9773a7aa05a9d77       2018-07-13   72000.0   \n16997   49  01d26f638c274aa0b965d24cefe3183f       2017-01-26   73000.0   \n16998   83  9dc1421481194dcd9400aec7c9ae6366       2016-03-07   50000.0   \n16999   62  e4052622e5ba45a8b96b59aba68cf068       2017-07-22   82000.0   \n\n       female  male  other_gender  \n0           0     0             0  \n1           1     0             0  \n2           0     0             0  \n3           1     0             0  \n4           0     0             0  \n...       ...   ...           ...  \n16995       1     0             0  \n16996       0     1             0  \n16997       0     1             0  \n16998       1     0             0  \n16999       1     0             0  \n\n[17000 rows x 7 columns]",
      "text/html": "<div>\n<style scoped>\n    .dataframe tbody tr th:only-of-type {\n        vertical-align: middle;\n    }\n\n    .dataframe tbody tr th {\n        vertical-align: top;\n    }\n\n    .dataframe thead th {\n        text-align: right;\n    }\n</style>\n<table border=\"1\" class=\"dataframe\">\n  <thead>\n    <tr style=\"text-align: right;\">\n      <th></th>\n      <th>age</th>\n      <th>customer_id</th>\n      <th>became_member_on</th>\n      <th>income</th>\n      <th>female</th>\n      <th>male</th>\n      <th>other_gender</th>\n    </tr>\n  </thead>\n  <tbody>\n    <tr>\n      <th>0</th>\n      <td>118</td>\n      <td>68be06ca386d4c31939f3a4f0e3dd783</td>\n      <td>2017-02-12</td>\n      <td>NaN</td>\n      <td>0</td>\n      <td>0</td>\n      <td>0</td>\n    </tr>\n    <tr>\n      <th>1</th>\n      <td>55</td>\n      <td>0610b486422d4921ae7d2bf64640c50b</td>\n      <td>2017-07-15</td>\n      <td>112000.0</td>\n      <td>1</td>\n      <td>0</td>\n      <td>0</td>\n    </tr>\n    <tr>\n      <th>2</th>\n      <td>118</td>\n      <td>38fe809add3b4fcf9315a9694bb96ff5</td>\n      <td>2018-07-12</td>\n      <td>NaN</td>\n      <td>0</td>\n      <td>0</td>\n      <td>0</td>\n    </tr>\n    <tr>\n      <th>3</th>\n      <td>75</td>\n      <td>78afa995795e4d85b5d9ceeca43f5fef</td>\n      <td>2017-05-09</td>\n      <td>100000.0</td>\n      <td>1</td>\n      <td>0</td>\n      <td>0</td>\n    </tr>\n    <tr>\n      <th>4</th>\n      <td>118</td>\n      <td>a03223e636434f42ac4c3df47e8bac43</td>\n      <td>2017-08-04</td>\n      <td>NaN</td>\n      <td>0</td>\n      <td>0</td>\n      <td>0</td>\n    </tr>\n    <tr>\n      <th>...</th>\n      <td>...</td>\n      <td>...</td>\n      <td>...</td>\n      <td>...</td>\n      <td>...</td>\n      <td>...</td>\n      <td>...</td>\n    </tr>\n    <tr>\n      <th>16995</th>\n      <td>45</td>\n      <td>6d5f3a774f3d4714ab0c092238f3a1d7</td>\n      <td>2018-06-04</td>\n      <td>54000.0</td>\n      <td>1</td>\n      <td>0</td>\n      <td>0</td>\n    </tr>\n    <tr>\n      <th>16996</th>\n      <td>61</td>\n      <td>2cb4f97358b841b9a9773a7aa05a9d77</td>\n      <td>2018-07-13</td>\n      <td>72000.0</td>\n      <td>0</td>\n      <td>1</td>\n      <td>0</td>\n    </tr>\n    <tr>\n      <th>16997</th>\n      <td>49</td>\n      <td>01d26f638c274aa0b965d24cefe3183f</td>\n      <td>2017-01-26</td>\n      <td>73000.0</td>\n      <td>0</td>\n      <td>1</td>\n      <td>0</td>\n    </tr>\n    <tr>\n      <th>16998</th>\n      <td>83</td>\n      <td>9dc1421481194dcd9400aec7c9ae6366</td>\n      <td>2016-03-07</td>\n      <td>50000.0</td>\n      <td>1</td>\n      <td>0</td>\n      <td>0</td>\n    </tr>\n    <tr>\n      <th>16999</th>\n      <td>62</td>\n      <td>e4052622e5ba45a8b96b59aba68cf068</td>\n      <td>2017-07-22</td>\n      <td>82000.0</td>\n      <td>1</td>\n      <td>0</td>\n      <td>0</td>\n    </tr>\n  </tbody>\n</table>\n<p>17000 rows × 7 columns</p>\n</div>"
     },
     "execution_count": 1539,
     "metadata": {},
     "output_type": "execute_result"
    }
   ],
   "source": [
    "profile"
   ],
   "metadata": {
    "collapsed": false,
    "ExecuteTime": {
     "end_time": "2023-06-16T05:21:32.677197Z",
     "start_time": "2023-06-16T05:21:32.660573Z"
    }
   }
  },
  {
   "cell_type": "markdown",
   "source": [
    "### Preprocessing Age column"
   ],
   "metadata": {
    "collapsed": false
   }
  },
  {
   "cell_type": "code",
   "execution_count": 1540,
   "outputs": [
    {
     "data": {
      "text/plain": "count    17000.000000\nmean        62.531412\nstd         26.738580\nmin         18.000000\n25%         45.000000\n50%         58.000000\n75%         73.000000\nmax        118.000000\nName: age, dtype: float64"
     },
     "execution_count": 1540,
     "metadata": {},
     "output_type": "execute_result"
    }
   ],
   "source": [
    "profile['age'].describe()"
   ],
   "metadata": {
    "collapsed": false,
    "ExecuteTime": {
     "end_time": "2023-06-16T05:21:32.741613Z",
     "start_time": "2023-06-16T05:21:32.666162Z"
    }
   }
  },
  {
   "cell_type": "markdown",
   "source": [
    "The max value for age is 118, which is quite not normal. Let's try to figure it out why"
   ],
   "metadata": {
    "collapsed": false
   }
  },
  {
   "cell_type": "code",
   "execution_count": 1541,
   "outputs": [
    {
     "data": {
      "text/plain": "       age                       customer_id became_member_on  income  female  \\\n0      118  68be06ca386d4c31939f3a4f0e3dd783       2017-02-12     NaN       0   \n2      118  38fe809add3b4fcf9315a9694bb96ff5       2018-07-12     NaN       0   \n4      118  a03223e636434f42ac4c3df47e8bac43       2017-08-04     NaN       0   \n6      118  8ec6ce2a7e7949b1bf142def7d0e0586       2017-09-25     NaN       0   \n7      118  68617ca6246f4fbc85e91a2a49552598       2017-10-02     NaN       0   \n...    ...                               ...              ...     ...     ...   \n16980  118  5c686d09ca4d475a8f750f2ba07e0440       2016-09-01     NaN       0   \n16982  118  d9ca82f550ac4ee58b6299cf1e5c824a       2016-04-15     NaN       0   \n16989  118  ca45ee1883624304bac1e4c8a114f045       2018-03-05     NaN       0   \n16991  118  a9a20fa8b5504360beb4e7c8712f8306       2016-01-16     NaN       0   \n16994  118  c02b10e8752c4d8e9b73f918558531f7       2015-12-11     NaN       0   \n\n       male  other_gender  \n0         0             0  \n2         0             0  \n4         0             0  \n6         0             0  \n7         0             0  \n...     ...           ...  \n16980     0             0  \n16982     0             0  \n16989     0             0  \n16991     0             0  \n16994     0             0  \n\n[2175 rows x 7 columns]",
      "text/html": "<div>\n<style scoped>\n    .dataframe tbody tr th:only-of-type {\n        vertical-align: middle;\n    }\n\n    .dataframe tbody tr th {\n        vertical-align: top;\n    }\n\n    .dataframe thead th {\n        text-align: right;\n    }\n</style>\n<table border=\"1\" class=\"dataframe\">\n  <thead>\n    <tr style=\"text-align: right;\">\n      <th></th>\n      <th>age</th>\n      <th>customer_id</th>\n      <th>became_member_on</th>\n      <th>income</th>\n      <th>female</th>\n      <th>male</th>\n      <th>other_gender</th>\n    </tr>\n  </thead>\n  <tbody>\n    <tr>\n      <th>0</th>\n      <td>118</td>\n      <td>68be06ca386d4c31939f3a4f0e3dd783</td>\n      <td>2017-02-12</td>\n      <td>NaN</td>\n      <td>0</td>\n      <td>0</td>\n      <td>0</td>\n    </tr>\n    <tr>\n      <th>2</th>\n      <td>118</td>\n      <td>38fe809add3b4fcf9315a9694bb96ff5</td>\n      <td>2018-07-12</td>\n      <td>NaN</td>\n      <td>0</td>\n      <td>0</td>\n      <td>0</td>\n    </tr>\n    <tr>\n      <th>4</th>\n      <td>118</td>\n      <td>a03223e636434f42ac4c3df47e8bac43</td>\n      <td>2017-08-04</td>\n      <td>NaN</td>\n      <td>0</td>\n      <td>0</td>\n      <td>0</td>\n    </tr>\n    <tr>\n      <th>6</th>\n      <td>118</td>\n      <td>8ec6ce2a7e7949b1bf142def7d0e0586</td>\n      <td>2017-09-25</td>\n      <td>NaN</td>\n      <td>0</td>\n      <td>0</td>\n      <td>0</td>\n    </tr>\n    <tr>\n      <th>7</th>\n      <td>118</td>\n      <td>68617ca6246f4fbc85e91a2a49552598</td>\n      <td>2017-10-02</td>\n      <td>NaN</td>\n      <td>0</td>\n      <td>0</td>\n      <td>0</td>\n    </tr>\n    <tr>\n      <th>...</th>\n      <td>...</td>\n      <td>...</td>\n      <td>...</td>\n      <td>...</td>\n      <td>...</td>\n      <td>...</td>\n      <td>...</td>\n    </tr>\n    <tr>\n      <th>16980</th>\n      <td>118</td>\n      <td>5c686d09ca4d475a8f750f2ba07e0440</td>\n      <td>2016-09-01</td>\n      <td>NaN</td>\n      <td>0</td>\n      <td>0</td>\n      <td>0</td>\n    </tr>\n    <tr>\n      <th>16982</th>\n      <td>118</td>\n      <td>d9ca82f550ac4ee58b6299cf1e5c824a</td>\n      <td>2016-04-15</td>\n      <td>NaN</td>\n      <td>0</td>\n      <td>0</td>\n      <td>0</td>\n    </tr>\n    <tr>\n      <th>16989</th>\n      <td>118</td>\n      <td>ca45ee1883624304bac1e4c8a114f045</td>\n      <td>2018-03-05</td>\n      <td>NaN</td>\n      <td>0</td>\n      <td>0</td>\n      <td>0</td>\n    </tr>\n    <tr>\n      <th>16991</th>\n      <td>118</td>\n      <td>a9a20fa8b5504360beb4e7c8712f8306</td>\n      <td>2016-01-16</td>\n      <td>NaN</td>\n      <td>0</td>\n      <td>0</td>\n      <td>0</td>\n    </tr>\n    <tr>\n      <th>16994</th>\n      <td>118</td>\n      <td>c02b10e8752c4d8e9b73f918558531f7</td>\n      <td>2015-12-11</td>\n      <td>NaN</td>\n      <td>0</td>\n      <td>0</td>\n      <td>0</td>\n    </tr>\n  </tbody>\n</table>\n<p>2175 rows × 7 columns</p>\n</div>"
     },
     "execution_count": 1541,
     "metadata": {},
     "output_type": "execute_result"
    }
   ],
   "source": [
    "profile_118 = profile[profile['age']==118]\n",
    "profile_118"
   ],
   "metadata": {
    "collapsed": false,
    "ExecuteTime": {
     "end_time": "2023-06-16T05:21:32.765Z",
     "start_time": "2023-06-16T05:21:32.695641Z"
    }
   }
  },
  {
   "cell_type": "code",
   "execution_count": 1542,
   "outputs": [
    {
     "data": {
      "text/plain": "age                    0\ncustomer_id            0\nbecame_member_on       0\nincome              2175\nfemale                 0\nmale                   0\nother_gender           0\ndtype: int64"
     },
     "execution_count": 1542,
     "metadata": {},
     "output_type": "execute_result"
    }
   ],
   "source": [
    "profile_118.isna().sum()"
   ],
   "metadata": {
    "collapsed": false,
    "ExecuteTime": {
     "end_time": "2023-06-16T05:21:32.802955Z",
     "start_time": "2023-06-16T05:21:32.703934Z"
    }
   }
  },
  {
   "cell_type": "markdown",
   "source": [
    "All the null values we see in gender and income columns are from the 118 entries of age.\n"
   ],
   "metadata": {
    "collapsed": false
   }
  },
  {
   "cell_type": "code",
   "execution_count": 1543,
   "outputs": [
    {
     "data": {
      "text/plain": "<Figure size 640x480 with 1 Axes>",
      "image/png": "[encoded data removed]"
     },
     "metadata": {},
     "output_type": "display_data"
    }
   ],
   "source": [
    "# Histogram of age\n",
    "sns.histplot(profile['age'])\n",
    "plt.title(\"Age Distribution\")\n",
    "plt.xlabel(\"Age\");"
   ],
   "metadata": {
    "collapsed": false,
    "ExecuteTime": {
     "end_time": "2023-06-16T05:21:33.179402Z",
     "start_time": "2023-06-16T05:21:32.720389Z"
    }
   }
  },
  {
   "cell_type": "markdown",
   "source": [
    "By looking at the plot, we could say that the 118 is an outlier and let's replace it with NaN"
   ],
   "metadata": {
    "collapsed": false
   }
  },
  {
   "cell_type": "code",
   "execution_count": 1544,
   "outputs": [],
   "source": [
    "profile['age'] = [np.nan if x == 118 else x for x in profile['age']]"
   ],
   "metadata": {
    "collapsed": false,
    "ExecuteTime": {
     "end_time": "2023-06-16T05:21:33.192625Z",
     "start_time": "2023-06-16T05:21:33.188856Z"
    }
   }
  },
  {
   "cell_type": "code",
   "execution_count": 1545,
   "outputs": [
    {
     "data": {
      "text/plain": "Empty DataFrame\nColumns: [age, customer_id, became_member_on, income, female, male, other_gender]\nIndex: []",
      "text/html": "<div>\n<style scoped>\n    .dataframe tbody tr th:only-of-type {\n        vertical-align: middle;\n    }\n\n    .dataframe tbody tr th {\n        vertical-align: top;\n    }\n\n    .dataframe thead th {\n        text-align: right;\n    }\n</style>\n<table border=\"1\" class=\"dataframe\">\n  <thead>\n    <tr style=\"text-align: right;\">\n      <th></th>\n      <th>age</th>\n      <th>customer_id</th>\n      <th>became_member_on</th>\n      <th>income</th>\n      <th>female</th>\n      <th>male</th>\n      <th>other_gender</th>\n    </tr>\n  </thead>\n  <tbody>\n  </tbody>\n</table>\n</div>"
     },
     "execution_count": 1545,
     "metadata": {},
     "output_type": "execute_result"
    }
   ],
   "source": [
    "profile[profile['age'] == 118]"
   ],
   "metadata": {
    "collapsed": false,
    "ExecuteTime": {
     "end_time": "2023-06-16T05:21:33.289820Z",
     "start_time": "2023-06-16T05:21:33.198291Z"
    }
   }
  },
  {
   "cell_type": "markdown",
   "source": [
    "No entries with age value 118"
   ],
   "metadata": {
    "collapsed": false
   }
  },
  {
   "cell_type": "code",
   "execution_count": 1546,
   "outputs": [],
   "source": [
    "# Dropping values with NaN\n",
    "profile.dropna(inplace=True)"
   ],
   "metadata": {
    "collapsed": false,
    "ExecuteTime": {
     "end_time": "2023-06-16T05:21:33.289948Z",
     "start_time": "2023-06-16T05:21:33.209151Z"
    }
   }
  },
  {
   "cell_type": "code",
   "execution_count": 1547,
   "outputs": [
    {
     "data": {
      "text/plain": "age                 0\ncustomer_id         0\nbecame_member_on    0\nincome              0\nfemale              0\nmale                0\nother_gender        0\ndtype: int64"
     },
     "execution_count": 1547,
     "metadata": {},
     "output_type": "execute_result"
    }
   ],
   "source": [
    "profile.isna().sum()"
   ],
   "metadata": {
    "collapsed": false,
    "ExecuteTime": {
     "end_time": "2023-06-16T05:21:33.290480Z",
     "start_time": "2023-06-16T05:21:33.221316Z"
    }
   }
  },
  {
   "cell_type": "code",
   "execution_count": 1548,
   "outputs": [
    {
     "data": {
      "text/plain": "        age                       customer_id became_member_on    income  \\\n1      55.0  0610b486422d4921ae7d2bf64640c50b       2017-07-15  112000.0   \n3      75.0  78afa995795e4d85b5d9ceeca43f5fef       2017-05-09  100000.0   \n5      68.0  e2127556f4f64592b11af22de27a7932       2018-04-26   70000.0   \n8      65.0  389bc3fa690240e798340f5a15918d5c       2018-02-09   53000.0   \n12     58.0  2eeac8d8feae4a8cad5a6af0499a211d       2017-11-11   51000.0   \n...     ...                               ...              ...       ...   \n16995  45.0  6d5f3a774f3d4714ab0c092238f3a1d7       2018-06-04   54000.0   \n16996  61.0  2cb4f97358b841b9a9773a7aa05a9d77       2018-07-13   72000.0   \n16997  49.0  01d26f638c274aa0b965d24cefe3183f       2017-01-26   73000.0   \n16998  83.0  9dc1421481194dcd9400aec7c9ae6366       2016-03-07   50000.0   \n16999  62.0  e4052622e5ba45a8b96b59aba68cf068       2017-07-22   82000.0   \n\n       female  male  other_gender  \n1           1     0             0  \n3           1     0             0  \n5           0     1             0  \n8           0     1             0  \n12          0     1             0  \n...       ...   ...           ...  \n16995       1     0             0  \n16996       0     1             0  \n16997       0     1             0  \n16998       1     0             0  \n16999       1     0             0  \n\n[14825 rows x 7 columns]",
      "text/html": "<div>\n<style scoped>\n    .dataframe tbody tr th:only-of-type {\n        vertical-align: middle;\n    }\n\n    .dataframe tbody tr th {\n        vertical-align: top;\n    }\n\n    .dataframe thead th {\n        text-align: right;\n    }\n</style>\n<table border=\"1\" class=\"dataframe\">\n  <thead>\n    <tr style=\"text-align: right;\">\n      <th></th>\n      <th>age</th>\n      <th>customer_id</th>\n      <th>became_member_on</th>\n      <th>income</th>\n      <th>female</th>\n      <th>male</th>\n      <th>other_gender</th>\n    </tr>\n  </thead>\n  <tbody>\n    <tr>\n      <th>1</th>\n      <td>55.0</td>\n      <td>0610b486422d4921ae7d2bf64640c50b</td>\n      <td>2017-07-15</td>\n      <td>112000.0</td>\n      <td>1</td>\n      <td>0</td>\n      <td>0</td>\n    </tr>\n    <tr>\n      <th>3</th>\n      <td>75.0</td>\n      <td>78afa995795e4d85b5d9ceeca43f5fef</td>\n      <td>2017-05-09</td>\n      <td>100000.0</td>\n      <td>1</td>\n      <td>0</td>\n      <td>0</td>\n    </tr>\n    <tr>\n      <th>5</th>\n      <td>68.0</td>\n      <td>e2127556f4f64592b11af22de27a7932</td>\n      <td>2018-04-26</td>\n      <td>70000.0</td>\n      <td>0</td>\n      <td>1</td>\n      <td>0</td>\n    </tr>\n    <tr>\n      <th>8</th>\n      <td>65.0</td>\n      <td>389bc3fa690240e798340f5a15918d5c</td>\n      <td>2018-02-09</td>\n      <td>53000.0</td>\n      <td>0</td>\n      <td>1</td>\n      <td>0</td>\n    </tr>\n    <tr>\n      <th>12</th>\n      <td>58.0</td>\n      <td>2eeac8d8feae4a8cad5a6af0499a211d</td>\n      <td>2017-11-11</td>\n      <td>51000.0</td>\n      <td>0</td>\n      <td>1</td>\n      <td>0</td>\n    </tr>\n    <tr>\n      <th>...</th>\n      <td>...</td>\n      <td>...</td>\n      <td>...</td>\n      <td>...</td>\n      <td>...</td>\n      <td>...</td>\n      <td>...</td>\n    </tr>\n    <tr>\n      <th>16995</th>\n      <td>45.0</td>\n      <td>6d5f3a774f3d4714ab0c092238f3a1d7</td>\n      <td>2018-06-04</td>\n      <td>54000.0</td>\n      <td>1</td>\n      <td>0</td>\n      <td>0</td>\n    </tr>\n    <tr>\n      <th>16996</th>\n      <td>61.0</td>\n      <td>2cb4f97358b841b9a9773a7aa05a9d77</td>\n      <td>2018-07-13</td>\n      <td>72000.0</td>\n      <td>0</td>\n      <td>1</td>\n      <td>0</td>\n    </tr>\n    <tr>\n      <th>16997</th>\n      <td>49.0</td>\n      <td>01d26f638c274aa0b965d24cefe3183f</td>\n      <td>2017-01-26</td>\n      <td>73000.0</td>\n      <td>0</td>\n      <td>1</td>\n      <td>0</td>\n    </tr>\n    <tr>\n      <th>16998</th>\n      <td>83.0</td>\n      <td>9dc1421481194dcd9400aec7c9ae6366</td>\n      <td>2016-03-07</td>\n      <td>50000.0</td>\n      <td>1</td>\n      <td>0</td>\n      <td>0</td>\n    </tr>\n    <tr>\n      <th>16999</th>\n      <td>62.0</td>\n      <td>e4052622e5ba45a8b96b59aba68cf068</td>\n      <td>2017-07-22</td>\n      <td>82000.0</td>\n      <td>1</td>\n      <td>0</td>\n      <td>0</td>\n    </tr>\n  </tbody>\n</table>\n<p>14825 rows × 7 columns</p>\n</div>"
     },
     "execution_count": 1548,
     "metadata": {},
     "output_type": "execute_result"
    }
   ],
   "source": [
    "profile"
   ],
   "metadata": {
    "collapsed": false,
    "ExecuteTime": {
     "end_time": "2023-06-16T05:21:33.290639Z",
     "start_time": "2023-06-16T05:21:33.241623Z"
    }
   }
  },
  {
   "cell_type": "markdown",
   "source": [
    "Binning our age column and creating age groups.\n",
    "\n",
    "Let's categorize them as:\n",
    " - Young Adult: 18-25 years old\n",
    "- Adult: 25-65 years old\n",
    "- Senior: 65 years and older\n",
    "\n",
    "Age groups:\n",
    "- Young Adult - 1\n",
    "- Adult - 2\n",
    "- Senior - 3"
   ],
   "metadata": {
    "collapsed": false
   }
  },
  {
   "cell_type": "code",
   "execution_count": 1549,
   "outputs": [],
   "source": [
    "# Create bins from the ages based on the categories\n",
    "bins = [profile['age'].min(), 25, 65, profile['age'].max() + 1]\n",
    "labels = ['young_adult', 'adult', 'senior']\n",
    "profile['age_category'] = pd.cut(profile['age'], bins=bins, labels=labels, include_lowest=True)\n",
    "\n",
    "# Categorizing\n",
    "profile['age_category']= pd.Categorical(profile['age_category'], categories=labels, ordered=True)\n",
    "\n",
    "# Assigning numerical values\n",
    "age_map_values = {'young_adult':1,'adult':2,'senior':3}\n",
    "profile['age_bins'] = profile['age_category'].map(age_map_values)"
   ],
   "metadata": {
    "collapsed": false,
    "ExecuteTime": {
     "end_time": "2023-06-16T05:21:33.291303Z",
     "start_time": "2023-06-16T05:21:33.250467Z"
    }
   }
  },
  {
   "cell_type": "code",
   "execution_count": 1550,
   "outputs": [],
   "source": [
    "profile.drop(['age','age_category'],axis=1,inplace=True)"
   ],
   "metadata": {
    "collapsed": false,
    "ExecuteTime": {
     "end_time": "2023-06-16T05:21:33.291398Z",
     "start_time": "2023-06-16T05:21:33.263228Z"
    }
   }
  },
  {
   "cell_type": "code",
   "execution_count": 1551,
   "outputs": [
    {
     "data": {
      "text/plain": "                            customer_id became_member_on    income  female  \\\n1      0610b486422d4921ae7d2bf64640c50b       2017-07-15  112000.0       1   \n3      78afa995795e4d85b5d9ceeca43f5fef       2017-05-09  100000.0       1   \n5      e2127556f4f64592b11af22de27a7932       2018-04-26   70000.0       0   \n8      389bc3fa690240e798340f5a15918d5c       2018-02-09   53000.0       0   \n12     2eeac8d8feae4a8cad5a6af0499a211d       2017-11-11   51000.0       0   \n...                                 ...              ...       ...     ...   \n16995  6d5f3a774f3d4714ab0c092238f3a1d7       2018-06-04   54000.0       1   \n16996  2cb4f97358b841b9a9773a7aa05a9d77       2018-07-13   72000.0       0   \n16997  01d26f638c274aa0b965d24cefe3183f       2017-01-26   73000.0       0   \n16998  9dc1421481194dcd9400aec7c9ae6366       2016-03-07   50000.0       1   \n16999  e4052622e5ba45a8b96b59aba68cf068       2017-07-22   82000.0       1   \n\n       male  other_gender age_bins  \n1         0             0        2  \n3         0             0        3  \n5         1             0        3  \n8         1             0        2  \n12        1             0        2  \n...     ...           ...      ...  \n16995     0             0        2  \n16996     1             0        2  \n16997     1             0        2  \n16998     0             0        3  \n16999     0             0        2  \n\n[14825 rows x 7 columns]",
      "text/html": "<div>\n<style scoped>\n    .dataframe tbody tr th:only-of-type {\n        vertical-align: middle;\n    }\n\n    .dataframe tbody tr th {\n        vertical-align: top;\n    }\n\n    .dataframe thead th {\n        text-align: right;\n    }\n</style>\n<table border=\"1\" class=\"dataframe\">\n  <thead>\n    <tr style=\"text-align: right;\">\n      <th></th>\n      <th>customer_id</th>\n      <th>became_member_on</th>\n      <th>income</th>\n      <th>female</th>\n      <th>male</th>\n      <th>other_gender</th>\n      <th>age_bins</th>\n    </tr>\n  </thead>\n  <tbody>\n    <tr>\n      <th>1</th>\n      <td>0610b486422d4921ae7d2bf64640c50b</td>\n      <td>2017-07-15</td>\n      <td>112000.0</td>\n      <td>1</td>\n      <td>0</td>\n      <td>0</td>\n      <td>2</td>\n    </tr>\n    <tr>\n      <th>3</th>\n      <td>78afa995795e4d85b5d9ceeca43f5fef</td>\n      <td>2017-05-09</td>\n      <td>100000.0</td>\n      <td>1</td>\n      <td>0</td>\n      <td>0</td>\n      <td>3</td>\n    </tr>\n    <tr>\n      <th>5</th>\n      <td>e2127556f4f64592b11af22de27a7932</td>\n      <td>2018-04-26</td>\n      <td>70000.0</td>\n      <td>0</td>\n      <td>1</td>\n      <td>0</td>\n      <td>3</td>\n    </tr>\n    <tr>\n      <th>8</th>\n      <td>389bc3fa690240e798340f5a15918d5c</td>\n      <td>2018-02-09</td>\n      <td>53000.0</td>\n      <td>0</td>\n      <td>1</td>\n      <td>0</td>\n      <td>2</td>\n    </tr>\n    <tr>\n      <th>12</th>\n      <td>2eeac8d8feae4a8cad5a6af0499a211d</td>\n      <td>2017-11-11</td>\n      <td>51000.0</td>\n      <td>0</td>\n      <td>1</td>\n      <td>0</td>\n      <td>2</td>\n    </tr>\n    <tr>\n      <th>...</th>\n      <td>...</td>\n      <td>...</td>\n      <td>...</td>\n      <td>...</td>\n      <td>...</td>\n      <td>...</td>\n      <td>...</td>\n    </tr>\n    <tr>\n      <th>16995</th>\n      <td>6d5f3a774f3d4714ab0c092238f3a1d7</td>\n      <td>2018-06-04</td>\n      <td>54000.0</td>\n      <td>1</td>\n      <td>0</td>\n      <td>0</td>\n      <td>2</td>\n    </tr>\n    <tr>\n      <th>16996</th>\n      <td>2cb4f97358b841b9a9773a7aa05a9d77</td>\n      <td>2018-07-13</td>\n      <td>72000.0</td>\n      <td>0</td>\n      <td>1</td>\n      <td>0</td>\n      <td>2</td>\n    </tr>\n    <tr>\n      <th>16997</th>\n      <td>01d26f638c274aa0b965d24cefe3183f</td>\n      <td>2017-01-26</td>\n      <td>73000.0</td>\n      <td>0</td>\n      <td>1</td>\n      <td>0</td>\n      <td>2</td>\n    </tr>\n    <tr>\n      <th>16998</th>\n      <td>9dc1421481194dcd9400aec7c9ae6366</td>\n      <td>2016-03-07</td>\n      <td>50000.0</td>\n      <td>1</td>\n      <td>0</td>\n      <td>0</td>\n      <td>3</td>\n    </tr>\n    <tr>\n      <th>16999</th>\n      <td>e4052622e5ba45a8b96b59aba68cf068</td>\n      <td>2017-07-22</td>\n      <td>82000.0</td>\n      <td>1</td>\n      <td>0</td>\n      <td>0</td>\n      <td>2</td>\n    </tr>\n  </tbody>\n</table>\n<p>14825 rows × 7 columns</p>\n</div>"
     },
     "execution_count": 1551,
     "metadata": {},
     "output_type": "execute_result"
    }
   ],
   "source": [
    "profile"
   ],
   "metadata": {
    "collapsed": false,
    "ExecuteTime": {
     "end_time": "2023-06-16T05:21:33.291531Z",
     "start_time": "2023-06-16T05:21:33.283301Z"
    }
   }
  },
  {
   "cell_type": "markdown",
   "source": [
    "### Preprocessing income column\n",
    "\n",
    "Let's categorize them as:\n",
    "- Moderate  as 1\n",
    "- Good as 2\n",
    "- Excellent as 3"
   ],
   "metadata": {
    "collapsed": false
   }
  },
  {
   "cell_type": "code",
   "execution_count": 1552,
   "outputs": [],
   "source": [
    "#Changing the datatype to int\n",
    "profile['income']=profile['income'].astype('int64')\n",
    "\n",
    "\n",
    "# Creating bins\n",
    "income_bins = [profile['income'].min(),64000, 94000,profile['income'].max() + 1]\n",
    "income_labels = ['moderate','good','excellent']\n",
    "profile['income_labels'] = pd.cut(profile['income'],bins=income_bins,labels=income_labels,include_lowest=True)\n",
    "\n",
    "#Categorizing\n",
    "profile['income_labels']= pd.Categorical(profile['income_labels'], categories=income_labels, ordered=True)\n",
    "\n",
    "# Assigning numerical values\n",
    "income_label_values = {'moderate':1,'good':2,'excellent':3}\n",
    "profile['income_bins'] = profile['income_labels'].map(income_label_values)"
   ],
   "metadata": {
    "collapsed": false,
    "ExecuteTime": {
     "end_time": "2023-06-16T05:21:33.308091Z",
     "start_time": "2023-06-16T05:21:33.289071Z"
    }
   }
  },
  {
   "cell_type": "code",
   "execution_count": 1553,
   "outputs": [
    {
     "data": {
      "text/plain": "       income income_labels income_bins\n1      112000     excellent           3\n3      100000     excellent           3\n5       70000          good           2\n8       53000      moderate           1\n12      51000      moderate           1\n...       ...           ...         ...\n16995   54000      moderate           1\n16996   72000          good           2\n16997   73000          good           2\n16998   50000      moderate           1\n16999   82000          good           2\n\n[14825 rows x 3 columns]",
      "text/html": "<div>\n<style scoped>\n    .dataframe tbody tr th:only-of-type {\n        vertical-align: middle;\n    }\n\n    .dataframe tbody tr th {\n        vertical-align: top;\n    }\n\n    .dataframe thead th {\n        text-align: right;\n    }\n</style>\n<table border=\"1\" class=\"dataframe\">\n  <thead>\n    <tr style=\"text-align: right;\">\n      <th></th>\n      <th>income</th>\n      <th>income_labels</th>\n      <th>income_bins</th>\n    </tr>\n  </thead>\n  <tbody>\n    <tr>\n      <th>1</th>\n      <td>112000</td>\n      <td>excellent</td>\n      <td>3</td>\n    </tr>\n    <tr>\n      <th>3</th>\n      <td>100000</td>\n      <td>excellent</td>\n      <td>3</td>\n    </tr>\n    <tr>\n      <th>5</th>\n      <td>70000</td>\n      <td>good</td>\n      <td>2</td>\n    </tr>\n    <tr>\n      <th>8</th>\n      <td>53000</td>\n      <td>moderate</td>\n      <td>1</td>\n    </tr>\n    <tr>\n      <th>12</th>\n      <td>51000</td>\n      <td>moderate</td>\n      <td>1</td>\n    </tr>\n    <tr>\n      <th>...</th>\n      <td>...</td>\n      <td>...</td>\n      <td>...</td>\n    </tr>\n    <tr>\n      <th>16995</th>\n      <td>54000</td>\n      <td>moderate</td>\n      <td>1</td>\n    </tr>\n    <tr>\n      <th>16996</th>\n      <td>72000</td>\n      <td>good</td>\n      <td>2</td>\n    </tr>\n    <tr>\n      <th>16997</th>\n      <td>73000</td>\n      <td>good</td>\n      <td>2</td>\n    </tr>\n    <tr>\n      <th>16998</th>\n      <td>50000</td>\n      <td>moderate</td>\n      <td>1</td>\n    </tr>\n    <tr>\n      <th>16999</th>\n      <td>82000</td>\n      <td>good</td>\n      <td>2</td>\n    </tr>\n  </tbody>\n</table>\n<p>14825 rows × 3 columns</p>\n</div>"
     },
     "execution_count": 1553,
     "metadata": {},
     "output_type": "execute_result"
    }
   ],
   "source": [
    "profile[['income','income_labels','income_bins']]"
   ],
   "metadata": {
    "collapsed": false,
    "ExecuteTime": {
     "end_time": "2023-06-16T05:21:33.434088Z",
     "start_time": "2023-06-16T05:21:33.312245Z"
    }
   }
  },
  {
   "cell_type": "code",
   "execution_count": 1554,
   "outputs": [],
   "source": [
    "# Dropping the income and income_labels column\n",
    "profile.drop(['income_labels','income'],inplace=True,axis=1)"
   ],
   "metadata": {
    "collapsed": false,
    "ExecuteTime": {
     "end_time": "2023-06-16T05:21:33.434259Z",
     "start_time": "2023-06-16T05:21:33.323994Z"
    }
   }
  },
  {
   "cell_type": "code",
   "execution_count": 1555,
   "outputs": [
    {
     "data": {
      "text/plain": "                            customer_id became_member_on  female  male  \\\n1      0610b486422d4921ae7d2bf64640c50b       2017-07-15       1     0   \n3      78afa995795e4d85b5d9ceeca43f5fef       2017-05-09       1     0   \n5      e2127556f4f64592b11af22de27a7932       2018-04-26       0     1   \n8      389bc3fa690240e798340f5a15918d5c       2018-02-09       0     1   \n12     2eeac8d8feae4a8cad5a6af0499a211d       2017-11-11       0     1   \n...                                 ...              ...     ...   ...   \n16995  6d5f3a774f3d4714ab0c092238f3a1d7       2018-06-04       1     0   \n16996  2cb4f97358b841b9a9773a7aa05a9d77       2018-07-13       0     1   \n16997  01d26f638c274aa0b965d24cefe3183f       2017-01-26       0     1   \n16998  9dc1421481194dcd9400aec7c9ae6366       2016-03-07       1     0   \n16999  e4052622e5ba45a8b96b59aba68cf068       2017-07-22       1     0   \n\n       other_gender age_bins income_bins  \n1                 0        2           3  \n3                 0        3           3  \n5                 0        3           2  \n8                 0        2           1  \n12                0        2           1  \n...             ...      ...         ...  \n16995             0        2           1  \n16996             0        2           2  \n16997             0        2           2  \n16998             0        3           1  \n16999             0        2           2  \n\n[14825 rows x 7 columns]",
      "text/html": "<div>\n<style scoped>\n    .dataframe tbody tr th:only-of-type {\n        vertical-align: middle;\n    }\n\n    .dataframe tbody tr th {\n        vertical-align: top;\n    }\n\n    .dataframe thead th {\n        text-align: right;\n    }\n</style>\n<table border=\"1\" class=\"dataframe\">\n  <thead>\n    <tr style=\"text-align: right;\">\n      <th></th>\n      <th>customer_id</th>\n      <th>became_member_on</th>\n      <th>female</th>\n      <th>male</th>\n      <th>other_gender</th>\n      <th>age_bins</th>\n      <th>income_bins</th>\n    </tr>\n  </thead>\n  <tbody>\n    <tr>\n      <th>1</th>\n      <td>0610b486422d4921ae7d2bf64640c50b</td>\n      <td>2017-07-15</td>\n      <td>1</td>\n      <td>0</td>\n      <td>0</td>\n      <td>2</td>\n      <td>3</td>\n    </tr>\n    <tr>\n      <th>3</th>\n      <td>78afa995795e4d85b5d9ceeca43f5fef</td>\n      <td>2017-05-09</td>\n      <td>1</td>\n      <td>0</td>\n      <td>0</td>\n      <td>3</td>\n      <td>3</td>\n    </tr>\n    <tr>\n      <th>5</th>\n      <td>e2127556f4f64592b11af22de27a7932</td>\n      <td>2018-04-26</td>\n      <td>0</td>\n      <td>1</td>\n      <td>0</td>\n      <td>3</td>\n      <td>2</td>\n    </tr>\n    <tr>\n      <th>8</th>\n      <td>389bc3fa690240e798340f5a15918d5c</td>\n      <td>2018-02-09</td>\n      <td>0</td>\n      <td>1</td>\n      <td>0</td>\n      <td>2</td>\n      <td>1</td>\n    </tr>\n    <tr>\n      <th>12</th>\n      <td>2eeac8d8feae4a8cad5a6af0499a211d</td>\n      <td>2017-11-11</td>\n      <td>0</td>\n      <td>1</td>\n      <td>0</td>\n      <td>2</td>\n      <td>1</td>\n    </tr>\n    <tr>\n      <th>...</th>\n      <td>...</td>\n      <td>...</td>\n      <td>...</td>\n      <td>...</td>\n      <td>...</td>\n      <td>...</td>\n      <td>...</td>\n    </tr>\n    <tr>\n      <th>16995</th>\n      <td>6d5f3a774f3d4714ab0c092238f3a1d7</td>\n      <td>2018-06-04</td>\n      <td>1</td>\n      <td>0</td>\n      <td>0</td>\n      <td>2</td>\n      <td>1</td>\n    </tr>\n    <tr>\n      <th>16996</th>\n      <td>2cb4f97358b841b9a9773a7aa05a9d77</td>\n      <td>2018-07-13</td>\n      <td>0</td>\n      <td>1</td>\n      <td>0</td>\n      <td>2</td>\n      <td>2</td>\n    </tr>\n    <tr>\n      <th>16997</th>\n      <td>01d26f638c274aa0b965d24cefe3183f</td>\n      <td>2017-01-26</td>\n      <td>0</td>\n      <td>1</td>\n      <td>0</td>\n      <td>2</td>\n      <td>2</td>\n    </tr>\n    <tr>\n      <th>16998</th>\n      <td>9dc1421481194dcd9400aec7c9ae6366</td>\n      <td>2016-03-07</td>\n      <td>1</td>\n      <td>0</td>\n      <td>0</td>\n      <td>3</td>\n      <td>1</td>\n    </tr>\n    <tr>\n      <th>16999</th>\n      <td>e4052622e5ba45a8b96b59aba68cf068</td>\n      <td>2017-07-22</td>\n      <td>1</td>\n      <td>0</td>\n      <td>0</td>\n      <td>2</td>\n      <td>2</td>\n    </tr>\n  </tbody>\n</table>\n<p>14825 rows × 7 columns</p>\n</div>"
     },
     "execution_count": 1555,
     "metadata": {},
     "output_type": "execute_result"
    }
   ],
   "source": [
    "profile"
   ],
   "metadata": {
    "collapsed": false,
    "ExecuteTime": {
     "end_time": "2023-06-16T05:21:33.510236Z",
     "start_time": "2023-06-16T05:21:33.359713Z"
    }
   }
  },
  {
   "cell_type": "markdown",
   "source": [
    "### Preprocessing became_member_on column"
   ],
   "metadata": {
    "collapsed": false
   }
  },
  {
   "cell_type": "code",
   "execution_count": 1556,
   "outputs": [
    {
     "data": {
      "text/plain": "1       2017-07-15\n3       2017-05-09\n5       2018-04-26\n8       2018-02-09\n12      2017-11-11\n           ...    \n16995   2018-06-04\n16996   2018-07-13\n16997   2017-01-26\n16998   2016-03-07\n16999   2017-07-22\nName: became_member_on, Length: 14825, dtype: datetime64[ns]"
     },
     "execution_count": 1556,
     "metadata": {},
     "output_type": "execute_result"
    }
   ],
   "source": [
    "profile['became_member_on']"
   ],
   "metadata": {
    "collapsed": false,
    "ExecuteTime": {
     "end_time": "2023-06-16T05:21:33.510604Z",
     "start_time": "2023-06-16T05:21:33.366889Z"
    }
   }
  },
  {
   "cell_type": "markdown",
   "source": [
    "Extracting month and year from the column"
   ],
   "metadata": {
    "collapsed": false
   }
  },
  {
   "cell_type": "code",
   "execution_count": 1557,
   "outputs": [],
   "source": [
    "profile['member_year'] = profile['became_member_on'].dt.year\n",
    "profile['member_month'] = profile['became_member_on'].dt.month"
   ],
   "metadata": {
    "collapsed": false,
    "ExecuteTime": {
     "end_time": "2023-06-16T05:21:33.510684Z",
     "start_time": "2023-06-16T05:21:33.379601Z"
    }
   }
  },
  {
   "cell_type": "code",
   "execution_count": 1733,
   "outputs": [
    {
     "data": {
      "text/plain": "                            customer_id became_member_on  female  male  \\\n1      0610b486422d4921ae7d2bf64640c50b       2017-07-15       1     0   \n3      78afa995795e4d85b5d9ceeca43f5fef       2017-05-09       1     0   \n5      e2127556f4f64592b11af22de27a7932       2018-04-26       0     1   \n8      389bc3fa690240e798340f5a15918d5c       2018-02-09       0     1   \n12     2eeac8d8feae4a8cad5a6af0499a211d       2017-11-11       0     1   \n...                                 ...              ...     ...   ...   \n16995  6d5f3a774f3d4714ab0c092238f3a1d7       2018-06-04       1     0   \n16996  2cb4f97358b841b9a9773a7aa05a9d77       2018-07-13       0     1   \n16997  01d26f638c274aa0b965d24cefe3183f       2017-01-26       0     1   \n16998  9dc1421481194dcd9400aec7c9ae6366       2016-03-07       1     0   \n16999  e4052622e5ba45a8b96b59aba68cf068       2017-07-22       1     0   \n\n       other_gender age_bins income_bins  member_year  member_month  \n1                 0        2           3         2017             7  \n3                 0        3           3         2017             5  \n5                 0        3           2         2018             4  \n8                 0        2           1         2018             2  \n12                0        2           1         2017            11  \n...             ...      ...         ...          ...           ...  \n16995             0        2           1         2018             6  \n16996             0        2           2         2018             7  \n16997             0        2           2         2017             1  \n16998             0        3           1         2016             3  \n16999             0        2           2         2017             7  \n\n[14825 rows x 9 columns]",
      "text/html": "<div>\n<style scoped>\n    .dataframe tbody tr th:only-of-type {\n        vertical-align: middle;\n    }\n\n    .dataframe tbody tr th {\n        vertical-align: top;\n    }\n\n    .dataframe thead th {\n        text-align: right;\n    }\n</style>\n<table border=\"1\" class=\"dataframe\">\n  <thead>\n    <tr style=\"text-align: right;\">\n      <th></th>\n      <th>customer_id</th>\n      <th>became_member_on</th>\n      <th>female</th>\n      <th>male</th>\n      <th>other_gender</th>\n      <th>age_bins</th>\n      <th>income_bins</th>\n      <th>member_year</th>\n      <th>member_month</th>\n    </tr>\n  </thead>\n  <tbody>\n    <tr>\n      <th>1</th>\n      <td>0610b486422d4921ae7d2bf64640c50b</td>\n      <td>2017-07-15</td>\n      <td>1</td>\n      <td>0</td>\n      <td>0</td>\n      <td>2</td>\n      <td>3</td>\n      <td>2017</td>\n      <td>7</td>\n    </tr>\n    <tr>\n      <th>3</th>\n      <td>78afa995795e4d85b5d9ceeca43f5fef</td>\n      <td>2017-05-09</td>\n      <td>1</td>\n      <td>0</td>\n      <td>0</td>\n      <td>3</td>\n      <td>3</td>\n      <td>2017</td>\n      <td>5</td>\n    </tr>\n    <tr>\n      <th>5</th>\n      <td>e2127556f4f64592b11af22de27a7932</td>\n      <td>2018-04-26</td>\n      <td>0</td>\n      <td>1</td>\n      <td>0</td>\n      <td>3</td>\n      <td>2</td>\n      <td>2018</td>\n      <td>4</td>\n    </tr>\n    <tr>\n      <th>8</th>\n      <td>389bc3fa690240e798340f5a15918d5c</td>\n      <td>2018-02-09</td>\n      <td>0</td>\n      <td>1</td>\n      <td>0</td>\n      <td>2</td>\n      <td>1</td>\n      <td>2018</td>\n      <td>2</td>\n    </tr>\n    <tr>\n      <th>12</th>\n      <td>2eeac8d8feae4a8cad5a6af0499a211d</td>\n      <td>2017-11-11</td>\n      <td>0</td>\n      <td>1</td>\n      <td>0</td>\n      <td>2</td>\n      <td>1</td>\n      <td>2017</td>\n      <td>11</td>\n    </tr>\n    <tr>\n      <th>...</th>\n      <td>...</td>\n      <td>...</td>\n      <td>...</td>\n      <td>...</td>\n      <td>...</td>\n      <td>...</td>\n      <td>...</td>\n      <td>...</td>\n      <td>...</td>\n    </tr>\n    <tr>\n      <th>16995</th>\n      <td>6d5f3a774f3d4714ab0c092238f3a1d7</td>\n      <td>2018-06-04</td>\n      <td>1</td>\n      <td>0</td>\n      <td>0</td>\n      <td>2</td>\n      <td>1</td>\n      <td>2018</td>\n      <td>6</td>\n    </tr>\n    <tr>\n      <th>16996</th>\n      <td>2cb4f97358b841b9a9773a7aa05a9d77</td>\n      <td>2018-07-13</td>\n      <td>0</td>\n      <td>1</td>\n      <td>0</td>\n      <td>2</td>\n      <td>2</td>\n      <td>2018</td>\n      <td>7</td>\n    </tr>\n    <tr>\n      <th>16997</th>\n      <td>01d26f638c274aa0b965d24cefe3183f</td>\n      <td>2017-01-26</td>\n      <td>0</td>\n      <td>1</td>\n      <td>0</td>\n      <td>2</td>\n      <td>2</td>\n      <td>2017</td>\n      <td>1</td>\n    </tr>\n    <tr>\n      <th>16998</th>\n      <td>9dc1421481194dcd9400aec7c9ae6366</td>\n      <td>2016-03-07</td>\n      <td>1</td>\n      <td>0</td>\n      <td>0</td>\n      <td>3</td>\n      <td>1</td>\n      <td>2016</td>\n      <td>3</td>\n    </tr>\n    <tr>\n      <th>16999</th>\n      <td>e4052622e5ba45a8b96b59aba68cf068</td>\n      <td>2017-07-22</td>\n      <td>1</td>\n      <td>0</td>\n      <td>0</td>\n      <td>2</td>\n      <td>2</td>\n      <td>2017</td>\n      <td>7</td>\n    </tr>\n  </tbody>\n</table>\n<p>14825 rows × 9 columns</p>\n</div>"
     },
     "execution_count": 1733,
     "metadata": {},
     "output_type": "execute_result"
    }
   ],
   "source": [
    "profile"
   ],
   "metadata": {
    "collapsed": false,
    "ExecuteTime": {
     "end_time": "2023-06-18T07:44:03.018325Z",
     "start_time": "2023-06-18T07:44:03.016950Z"
    }
   }
  },
  {
   "cell_type": "markdown",
   "source": [
    "## Portfolio Dataset"
   ],
   "metadata": {
    "collapsed": false
   }
  },
  {
   "cell_type": "code",
   "execution_count": 1558,
   "outputs": [
    {
     "data": {
      "text/plain": "   reward                      channels  difficulty  duration     offer_type  \\\n0      10       [email, mobile, social]          10         7           bogo   \n1      10  [web, email, mobile, social]          10         5           bogo   \n2       0          [web, email, mobile]           0         4  informational   \n3       5          [web, email, mobile]           5         7           bogo   \n4       5                  [web, email]          20        10       discount   \n5       3  [web, email, mobile, social]           7         7       discount   \n6       2  [web, email, mobile, social]          10        10       discount   \n7       0       [email, mobile, social]           0         3  informational   \n8       5  [web, email, mobile, social]           5         5           bogo   \n9       2          [web, email, mobile]          10         7       discount   \n\n                                 id  \n0  ae264e3637204a6fb9bb56bc8210ddfd  \n1  4d5c57ea9a6940dd891ad53e9dbe8da0  \n2  3f207df678b143eea3cee63160fa8bed  \n3  9b98b8c7a33c4b65b9aebfe6a799e6d9  \n4  0b1e1539f2cc45b7b9fa7c272da2e1d7  \n5  2298d6c36e964ae4a3e7e9706d1fb8c2  \n6  fafdcd668e3743c1bb461111dcafc2a4  \n7  5a8bc65990b245e5a138643cd4eb9837  \n8  f19421c1d4aa40978ebb69ca19b0e20d  \n9  2906b810c7d4411798c6938adc9daaa5  ",
      "text/html": "<div>\n<style scoped>\n    .dataframe tbody tr th:only-of-type {\n        vertical-align: middle;\n    }\n\n    .dataframe tbody tr th {\n        vertical-align: top;\n    }\n\n    .dataframe thead th {\n        text-align: right;\n    }\n</style>\n<table border=\"1\" class=\"dataframe\">\n  <thead>\n    <tr style=\"text-align: right;\">\n      <th></th>\n      <th>reward</th>\n      <th>channels</th>\n      <th>difficulty</th>\n      <th>duration</th>\n      <th>offer_type</th>\n      <th>id</th>\n    </tr>\n  </thead>\n  <tbody>\n    <tr>\n      <th>0</th>\n      <td>10</td>\n      <td>[email, mobile, social]</td>\n      <td>10</td>\n      <td>7</td>\n      <td>bogo</td>\n      <td>ae264e3637204a6fb9bb56bc8210ddfd</td>\n    </tr>\n    <tr>\n      <th>1</th>\n      <td>10</td>\n      <td>[web, email, mobile, social]</td>\n      <td>10</td>\n      <td>5</td>\n      <td>bogo</td>\n      <td>4d5c57ea9a6940dd891ad53e9dbe8da0</td>\n    </tr>\n    <tr>\n      <th>2</th>\n      <td>0</td>\n      <td>[web, email, mobile]</td>\n      <td>0</td>\n      <td>4</td>\n      <td>informational</td>\n      <td>3f207df678b143eea3cee63160fa8bed</td>\n    </tr>\n    <tr>\n      <th>3</th>\n      <td>5</td>\n      <td>[web, email, mobile]</td>\n      <td>5</td>\n      <td>7</td>\n      <td>bogo</td>\n      <td>9b98b8c7a33c4b65b9aebfe6a799e6d9</td>\n    </tr>\n    <tr>\n      <th>4</th>\n      <td>5</td>\n      <td>[web, email]</td>\n      <td>20</td>\n      <td>10</td>\n      <td>discount</td>\n      <td>0b1e1539f2cc45b7b9fa7c272da2e1d7</td>\n    </tr>\n    <tr>\n      <th>5</th>\n      <td>3</td>\n      <td>[web, email, mobile, social]</td>\n      <td>7</td>\n      <td>7</td>\n      <td>discount</td>\n      <td>2298d6c36e964ae4a3e7e9706d1fb8c2</td>\n    </tr>\n    <tr>\n      <th>6</th>\n      <td>2</td>\n      <td>[web, email, mobile, social]</td>\n      <td>10</td>\n      <td>10</td>\n      <td>discount</td>\n      <td>fafdcd668e3743c1bb461111dcafc2a4</td>\n    </tr>\n    <tr>\n      <th>7</th>\n      <td>0</td>\n      <td>[email, mobile, social]</td>\n      <td>0</td>\n      <td>3</td>\n      <td>informational</td>\n      <td>5a8bc65990b245e5a138643cd4eb9837</td>\n    </tr>\n    <tr>\n      <th>8</th>\n      <td>5</td>\n      <td>[web, email, mobile, social]</td>\n      <td>5</td>\n      <td>5</td>\n      <td>bogo</td>\n      <td>f19421c1d4aa40978ebb69ca19b0e20d</td>\n    </tr>\n    <tr>\n      <th>9</th>\n      <td>2</td>\n      <td>[web, email, mobile]</td>\n      <td>10</td>\n      <td>7</td>\n      <td>discount</td>\n      <td>2906b810c7d4411798c6938adc9daaa5</td>\n    </tr>\n  </tbody>\n</table>\n</div>"
     },
     "execution_count": 1558,
     "metadata": {},
     "output_type": "execute_result"
    }
   ],
   "source": [
    "portfolio"
   ],
   "metadata": {
    "collapsed": false,
    "ExecuteTime": {
     "end_time": "2023-06-16T05:21:33.510821Z",
     "start_time": "2023-06-16T05:21:33.399120Z"
    }
   }
  },
  {
   "cell_type": "code",
   "execution_count": 1559,
   "outputs": [],
   "source": [
    "portfolio_test = portfolio.copy()"
   ],
   "metadata": {
    "collapsed": false,
    "ExecuteTime": {
     "end_time": "2023-06-16T05:21:33.510909Z",
     "start_time": "2023-06-16T05:21:33.405677Z"
    }
   }
  },
  {
   "cell_type": "code",
   "execution_count": 1560,
   "outputs": [
    {
     "data": {
      "text/plain": "   reward                      channels  difficulty  duration     offer_type  \\\n0      10       [email, mobile, social]          10         7           bogo   \n1      10  [web, email, mobile, social]          10         5           bogo   \n2       0          [web, email, mobile]           0         4  informational   \n3       5          [web, email, mobile]           5         7           bogo   \n4       5                  [web, email]          20        10       discount   \n5       3  [web, email, mobile, social]           7         7       discount   \n6       2  [web, email, mobile, social]          10        10       discount   \n7       0       [email, mobile, social]           0         3  informational   \n8       5  [web, email, mobile, social]           5         5           bogo   \n9       2          [web, email, mobile]          10         7       discount   \n\n                                 id  \n0  ae264e3637204a6fb9bb56bc8210ddfd  \n1  4d5c57ea9a6940dd891ad53e9dbe8da0  \n2  3f207df678b143eea3cee63160fa8bed  \n3  9b98b8c7a33c4b65b9aebfe6a799e6d9  \n4  0b1e1539f2cc45b7b9fa7c272da2e1d7  \n5  2298d6c36e964ae4a3e7e9706d1fb8c2  \n6  fafdcd668e3743c1bb461111dcafc2a4  \n7  5a8bc65990b245e5a138643cd4eb9837  \n8  f19421c1d4aa40978ebb69ca19b0e20d  \n9  2906b810c7d4411798c6938adc9daaa5  ",
      "text/html": "<div>\n<style scoped>\n    .dataframe tbody tr th:only-of-type {\n        vertical-align: middle;\n    }\n\n    .dataframe tbody tr th {\n        vertical-align: top;\n    }\n\n    .dataframe thead th {\n        text-align: right;\n    }\n</style>\n<table border=\"1\" class=\"dataframe\">\n  <thead>\n    <tr style=\"text-align: right;\">\n      <th></th>\n      <th>reward</th>\n      <th>channels</th>\n      <th>difficulty</th>\n      <th>duration</th>\n      <th>offer_type</th>\n      <th>id</th>\n    </tr>\n  </thead>\n  <tbody>\n    <tr>\n      <th>0</th>\n      <td>10</td>\n      <td>[email, mobile, social]</td>\n      <td>10</td>\n      <td>7</td>\n      <td>bogo</td>\n      <td>ae264e3637204a6fb9bb56bc8210ddfd</td>\n    </tr>\n    <tr>\n      <th>1</th>\n      <td>10</td>\n      <td>[web, email, mobile, social]</td>\n      <td>10</td>\n      <td>5</td>\n      <td>bogo</td>\n      <td>4d5c57ea9a6940dd891ad53e9dbe8da0</td>\n    </tr>\n    <tr>\n      <th>2</th>\n      <td>0</td>\n      <td>[web, email, mobile]</td>\n      <td>0</td>\n      <td>4</td>\n      <td>informational</td>\n      <td>3f207df678b143eea3cee63160fa8bed</td>\n    </tr>\n    <tr>\n      <th>3</th>\n      <td>5</td>\n      <td>[web, email, mobile]</td>\n      <td>5</td>\n      <td>7</td>\n      <td>bogo</td>\n      <td>9b98b8c7a33c4b65b9aebfe6a799e6d9</td>\n    </tr>\n    <tr>\n      <th>4</th>\n      <td>5</td>\n      <td>[web, email]</td>\n      <td>20</td>\n      <td>10</td>\n      <td>discount</td>\n      <td>0b1e1539f2cc45b7b9fa7c272da2e1d7</td>\n    </tr>\n    <tr>\n      <th>5</th>\n      <td>3</td>\n      <td>[web, email, mobile, social]</td>\n      <td>7</td>\n      <td>7</td>\n      <td>discount</td>\n      <td>2298d6c36e964ae4a3e7e9706d1fb8c2</td>\n    </tr>\n    <tr>\n      <th>6</th>\n      <td>2</td>\n      <td>[web, email, mobile, social]</td>\n      <td>10</td>\n      <td>10</td>\n      <td>discount</td>\n      <td>fafdcd668e3743c1bb461111dcafc2a4</td>\n    </tr>\n    <tr>\n      <th>7</th>\n      <td>0</td>\n      <td>[email, mobile, social]</td>\n      <td>0</td>\n      <td>3</td>\n      <td>informational</td>\n      <td>5a8bc65990b245e5a138643cd4eb9837</td>\n    </tr>\n    <tr>\n      <th>8</th>\n      <td>5</td>\n      <td>[web, email, mobile, social]</td>\n      <td>5</td>\n      <td>5</td>\n      <td>bogo</td>\n      <td>f19421c1d4aa40978ebb69ca19b0e20d</td>\n    </tr>\n    <tr>\n      <th>9</th>\n      <td>2</td>\n      <td>[web, email, mobile]</td>\n      <td>10</td>\n      <td>7</td>\n      <td>discount</td>\n      <td>2906b810c7d4411798c6938adc9daaa5</td>\n    </tr>\n  </tbody>\n</table>\n</div>"
     },
     "execution_count": 1560,
     "metadata": {},
     "output_type": "execute_result"
    }
   ],
   "source": [
    "portfolio_test"
   ],
   "metadata": {
    "collapsed": false,
    "ExecuteTime": {
     "end_time": "2023-06-16T05:21:33.565222Z",
     "start_time": "2023-06-16T05:21:33.418286Z"
    }
   }
  },
  {
   "cell_type": "markdown",
   "source": [
    "Expanding the channels column values to create new with those values as there are multiple entries which later helps us to avoid numerical bias"
   ],
   "metadata": {
    "collapsed": false
   }
  },
  {
   "cell_type": "code",
   "execution_count": 1561,
   "outputs": [
    {
     "data": {
      "text/plain": "   email  mobile  social  web\n0      1       1       1    0\n1      1       1       1    1\n2      1       1       0    1\n3      1       1       0    1\n4      1       0       0    1\n5      1       1       1    1\n6      1       1       1    1\n7      1       1       1    0\n8      1       1       1    1\n9      1       1       0    1",
      "text/html": "<div>\n<style scoped>\n    .dataframe tbody tr th:only-of-type {\n        vertical-align: middle;\n    }\n\n    .dataframe tbody tr th {\n        vertical-align: top;\n    }\n\n    .dataframe thead th {\n        text-align: right;\n    }\n</style>\n<table border=\"1\" class=\"dataframe\">\n  <thead>\n    <tr style=\"text-align: right;\">\n      <th></th>\n      <th>email</th>\n      <th>mobile</th>\n      <th>social</th>\n      <th>web</th>\n    </tr>\n  </thead>\n  <tbody>\n    <tr>\n      <th>0</th>\n      <td>1</td>\n      <td>1</td>\n      <td>1</td>\n      <td>0</td>\n    </tr>\n    <tr>\n      <th>1</th>\n      <td>1</td>\n      <td>1</td>\n      <td>1</td>\n      <td>1</td>\n    </tr>\n    <tr>\n      <th>2</th>\n      <td>1</td>\n      <td>1</td>\n      <td>0</td>\n      <td>1</td>\n    </tr>\n    <tr>\n      <th>3</th>\n      <td>1</td>\n      <td>1</td>\n      <td>0</td>\n      <td>1</td>\n    </tr>\n    <tr>\n      <th>4</th>\n      <td>1</td>\n      <td>0</td>\n      <td>0</td>\n      <td>1</td>\n    </tr>\n    <tr>\n      <th>5</th>\n      <td>1</td>\n      <td>1</td>\n      <td>1</td>\n      <td>1</td>\n    </tr>\n    <tr>\n      <th>6</th>\n      <td>1</td>\n      <td>1</td>\n      <td>1</td>\n      <td>1</td>\n    </tr>\n    <tr>\n      <th>7</th>\n      <td>1</td>\n      <td>1</td>\n      <td>1</td>\n      <td>0</td>\n    </tr>\n    <tr>\n      <th>8</th>\n      <td>1</td>\n      <td>1</td>\n      <td>1</td>\n      <td>1</td>\n    </tr>\n    <tr>\n      <th>9</th>\n      <td>1</td>\n      <td>1</td>\n      <td>0</td>\n      <td>1</td>\n    </tr>\n  </tbody>\n</table>\n</div>"
     },
     "execution_count": 1561,
     "metadata": {},
     "output_type": "execute_result"
    }
   ],
   "source": [
    "# Expanding the channels column into separate columns\n",
    "channels_expanded = pd.get_dummies(portfolio_test['channels'].apply(pd.Series).stack()).sum(level=0)\n",
    "channels_expanded"
   ],
   "metadata": {
    "collapsed": false,
    "ExecuteTime": {
     "end_time": "2023-06-16T05:21:33.703719Z",
     "start_time": "2023-06-16T05:21:33.429538Z"
    }
   }
  },
  {
   "cell_type": "code",
   "execution_count": 1562,
   "outputs": [
    {
     "data": {
      "text/plain": "   reward                      channels  difficulty  duration     offer_type  \\\n0      10       [email, mobile, social]          10         7           bogo   \n1      10  [web, email, mobile, social]          10         5           bogo   \n2       0          [web, email, mobile]           0         4  informational   \n3       5          [web, email, mobile]           5         7           bogo   \n4       5                  [web, email]          20        10       discount   \n5       3  [web, email, mobile, social]           7         7       discount   \n6       2  [web, email, mobile, social]          10        10       discount   \n7       0       [email, mobile, social]           0         3  informational   \n8       5  [web, email, mobile, social]           5         5           bogo   \n9       2          [web, email, mobile]          10         7       discount   \n\n                                 id  email  mobile  social  web  \n0  ae264e3637204a6fb9bb56bc8210ddfd      1       1       1    0  \n1  4d5c57ea9a6940dd891ad53e9dbe8da0      1       1       1    1  \n2  3f207df678b143eea3cee63160fa8bed      1       1       0    1  \n3  9b98b8c7a33c4b65b9aebfe6a799e6d9      1       1       0    1  \n4  0b1e1539f2cc45b7b9fa7c272da2e1d7      1       0       0    1  \n5  2298d6c36e964ae4a3e7e9706d1fb8c2      1       1       1    1  \n6  fafdcd668e3743c1bb461111dcafc2a4      1       1       1    1  \n7  5a8bc65990b245e5a138643cd4eb9837      1       1       1    0  \n8  f19421c1d4aa40978ebb69ca19b0e20d      1       1       1    1  \n9  2906b810c7d4411798c6938adc9daaa5      1       1       0    1  ",
      "text/html": "<div>\n<style scoped>\n    .dataframe tbody tr th:only-of-type {\n        vertical-align: middle;\n    }\n\n    .dataframe tbody tr th {\n        vertical-align: top;\n    }\n\n    .dataframe thead th {\n        text-align: right;\n    }\n</style>\n<table border=\"1\" class=\"dataframe\">\n  <thead>\n    <tr style=\"text-align: right;\">\n      <th></th>\n      <th>reward</th>\n      <th>channels</th>\n      <th>difficulty</th>\n      <th>duration</th>\n      <th>offer_type</th>\n      <th>id</th>\n      <th>email</th>\n      <th>mobile</th>\n      <th>social</th>\n      <th>web</th>\n    </tr>\n  </thead>\n  <tbody>\n    <tr>\n      <th>0</th>\n      <td>10</td>\n      <td>[email, mobile, social]</td>\n      <td>10</td>\n      <td>7</td>\n      <td>bogo</td>\n      <td>ae264e3637204a6fb9bb56bc8210ddfd</td>\n      <td>1</td>\n      <td>1</td>\n      <td>1</td>\n      <td>0</td>\n    </tr>\n    <tr>\n      <th>1</th>\n      <td>10</td>\n      <td>[web, email, mobile, social]</td>\n      <td>10</td>\n      <td>5</td>\n      <td>bogo</td>\n      <td>4d5c57ea9a6940dd891ad53e9dbe8da0</td>\n      <td>1</td>\n      <td>1</td>\n      <td>1</td>\n      <td>1</td>\n    </tr>\n    <tr>\n      <th>2</th>\n      <td>0</td>\n      <td>[web, email, mobile]</td>\n      <td>0</td>\n      <td>4</td>\n      <td>informational</td>\n      <td>3f207df678b143eea3cee63160fa8bed</td>\n      <td>1</td>\n      <td>1</td>\n      <td>0</td>\n      <td>1</td>\n    </tr>\n    <tr>\n      <th>3</th>\n      <td>5</td>\n      <td>[web, email, mobile]</td>\n      <td>5</td>\n      <td>7</td>\n      <td>bogo</td>\n      <td>9b98b8c7a33c4b65b9aebfe6a799e6d9</td>\n      <td>1</td>\n      <td>1</td>\n      <td>0</td>\n      <td>1</td>\n    </tr>\n    <tr>\n      <th>4</th>\n      <td>5</td>\n      <td>[web, email]</td>\n      <td>20</td>\n      <td>10</td>\n      <td>discount</td>\n      <td>0b1e1539f2cc45b7b9fa7c272da2e1d7</td>\n      <td>1</td>\n      <td>0</td>\n      <td>0</td>\n      <td>1</td>\n    </tr>\n    <tr>\n      <th>5</th>\n      <td>3</td>\n      <td>[web, email, mobile, social]</td>\n      <td>7</td>\n      <td>7</td>\n      <td>discount</td>\n      <td>2298d6c36e964ae4a3e7e9706d1fb8c2</td>\n      <td>1</td>\n      <td>1</td>\n      <td>1</td>\n      <td>1</td>\n    </tr>\n    <tr>\n      <th>6</th>\n      <td>2</td>\n      <td>[web, email, mobile, social]</td>\n      <td>10</td>\n      <td>10</td>\n      <td>discount</td>\n      <td>fafdcd668e3743c1bb461111dcafc2a4</td>\n      <td>1</td>\n      <td>1</td>\n      <td>1</td>\n      <td>1</td>\n    </tr>\n    <tr>\n      <th>7</th>\n      <td>0</td>\n      <td>[email, mobile, social]</td>\n      <td>0</td>\n      <td>3</td>\n      <td>informational</td>\n      <td>5a8bc65990b245e5a138643cd4eb9837</td>\n      <td>1</td>\n      <td>1</td>\n      <td>1</td>\n      <td>0</td>\n    </tr>\n    <tr>\n      <th>8</th>\n      <td>5</td>\n      <td>[web, email, mobile, social]</td>\n      <td>5</td>\n      <td>5</td>\n      <td>bogo</td>\n      <td>f19421c1d4aa40978ebb69ca19b0e20d</td>\n      <td>1</td>\n      <td>1</td>\n      <td>1</td>\n      <td>1</td>\n    </tr>\n    <tr>\n      <th>9</th>\n      <td>2</td>\n      <td>[web, email, mobile]</td>\n      <td>10</td>\n      <td>7</td>\n      <td>discount</td>\n      <td>2906b810c7d4411798c6938adc9daaa5</td>\n      <td>1</td>\n      <td>1</td>\n      <td>0</td>\n      <td>1</td>\n    </tr>\n  </tbody>\n</table>\n</div>"
     },
     "execution_count": 1562,
     "metadata": {},
     "output_type": "execute_result"
    }
   ],
   "source": [
    "# Joining the new columns\n",
    "portfolio_test = pd.concat([portfolio_test,channels_expanded],axis=1)\n",
    "portfolio_test"
   ],
   "metadata": {
    "collapsed": false,
    "ExecuteTime": {
     "end_time": "2023-06-16T05:21:33.728746Z",
     "start_time": "2023-06-16T05:21:33.446121Z"
    }
   }
  },
  {
   "cell_type": "code",
   "execution_count": 1563,
   "outputs": [],
   "source": [
    "# Dropping the channels column\n",
    "portfolio_test.drop('channels',inplace=True,axis=1)"
   ],
   "metadata": {
    "collapsed": false,
    "ExecuteTime": {
     "end_time": "2023-06-16T05:21:33.729073Z",
     "start_time": "2023-06-16T05:21:33.469032Z"
    }
   }
  },
  {
   "cell_type": "code",
   "execution_count": 1564,
   "outputs": [
    {
     "data": {
      "text/plain": "   reward  difficulty  duration     offer_type  \\\n0      10          10         7           bogo   \n1      10          10         5           bogo   \n2       0           0         4  informational   \n3       5           5         7           bogo   \n4       5          20        10       discount   \n5       3           7         7       discount   \n6       2          10        10       discount   \n7       0           0         3  informational   \n8       5           5         5           bogo   \n9       2          10         7       discount   \n\n                                 id  email  mobile  social  web  \n0  ae264e3637204a6fb9bb56bc8210ddfd      1       1       1    0  \n1  4d5c57ea9a6940dd891ad53e9dbe8da0      1       1       1    1  \n2  3f207df678b143eea3cee63160fa8bed      1       1       0    1  \n3  9b98b8c7a33c4b65b9aebfe6a799e6d9      1       1       0    1  \n4  0b1e1539f2cc45b7b9fa7c272da2e1d7      1       0       0    1  \n5  2298d6c36e964ae4a3e7e9706d1fb8c2      1       1       1    1  \n6  fafdcd668e3743c1bb461111dcafc2a4      1       1       1    1  \n7  5a8bc65990b245e5a138643cd4eb9837      1       1       1    0  \n8  f19421c1d4aa40978ebb69ca19b0e20d      1       1       1    1  \n9  2906b810c7d4411798c6938adc9daaa5      1       1       0    1  ",
      "text/html": "<div>\n<style scoped>\n    .dataframe tbody tr th:only-of-type {\n        vertical-align: middle;\n    }\n\n    .dataframe tbody tr th {\n        vertical-align: top;\n    }\n\n    .dataframe thead th {\n        text-align: right;\n    }\n</style>\n<table border=\"1\" class=\"dataframe\">\n  <thead>\n    <tr style=\"text-align: right;\">\n      <th></th>\n      <th>reward</th>\n      <th>difficulty</th>\n      <th>duration</th>\n      <th>offer_type</th>\n      <th>id</th>\n      <th>email</th>\n      <th>mobile</th>\n      <th>social</th>\n      <th>web</th>\n    </tr>\n  </thead>\n  <tbody>\n    <tr>\n      <th>0</th>\n      <td>10</td>\n      <td>10</td>\n      <td>7</td>\n      <td>bogo</td>\n      <td>ae264e3637204a6fb9bb56bc8210ddfd</td>\n      <td>1</td>\n      <td>1</td>\n      <td>1</td>\n      <td>0</td>\n    </tr>\n    <tr>\n      <th>1</th>\n      <td>10</td>\n      <td>10</td>\n      <td>5</td>\n      <td>bogo</td>\n      <td>4d5c57ea9a6940dd891ad53e9dbe8da0</td>\n      <td>1</td>\n      <td>1</td>\n      <td>1</td>\n      <td>1</td>\n    </tr>\n    <tr>\n      <th>2</th>\n      <td>0</td>\n      <td>0</td>\n      <td>4</td>\n      <td>informational</td>\n      <td>3f207df678b143eea3cee63160fa8bed</td>\n      <td>1</td>\n      <td>1</td>\n      <td>0</td>\n      <td>1</td>\n    </tr>\n    <tr>\n      <th>3</th>\n      <td>5</td>\n      <td>5</td>\n      <td>7</td>\n      <td>bogo</td>\n      <td>9b98b8c7a33c4b65b9aebfe6a799e6d9</td>\n      <td>1</td>\n      <td>1</td>\n      <td>0</td>\n      <td>1</td>\n    </tr>\n    <tr>\n      <th>4</th>\n      <td>5</td>\n      <td>20</td>\n      <td>10</td>\n      <td>discount</td>\n      <td>0b1e1539f2cc45b7b9fa7c272da2e1d7</td>\n      <td>1</td>\n      <td>0</td>\n      <td>0</td>\n      <td>1</td>\n    </tr>\n    <tr>\n      <th>5</th>\n      <td>3</td>\n      <td>7</td>\n      <td>7</td>\n      <td>discount</td>\n      <td>2298d6c36e964ae4a3e7e9706d1fb8c2</td>\n      <td>1</td>\n      <td>1</td>\n      <td>1</td>\n      <td>1</td>\n    </tr>\n    <tr>\n      <th>6</th>\n      <td>2</td>\n      <td>10</td>\n      <td>10</td>\n      <td>discount</td>\n      <td>fafdcd668e3743c1bb461111dcafc2a4</td>\n      <td>1</td>\n      <td>1</td>\n      <td>1</td>\n      <td>1</td>\n    </tr>\n    <tr>\n      <th>7</th>\n      <td>0</td>\n      <td>0</td>\n      <td>3</td>\n      <td>informational</td>\n      <td>5a8bc65990b245e5a138643cd4eb9837</td>\n      <td>1</td>\n      <td>1</td>\n      <td>1</td>\n      <td>0</td>\n    </tr>\n    <tr>\n      <th>8</th>\n      <td>5</td>\n      <td>5</td>\n      <td>5</td>\n      <td>bogo</td>\n      <td>f19421c1d4aa40978ebb69ca19b0e20d</td>\n      <td>1</td>\n      <td>1</td>\n      <td>1</td>\n      <td>1</td>\n    </tr>\n    <tr>\n      <th>9</th>\n      <td>2</td>\n      <td>10</td>\n      <td>7</td>\n      <td>discount</td>\n      <td>2906b810c7d4411798c6938adc9daaa5</td>\n      <td>1</td>\n      <td>1</td>\n      <td>0</td>\n      <td>1</td>\n    </tr>\n  </tbody>\n</table>\n</div>"
     },
     "execution_count": 1564,
     "metadata": {},
     "output_type": "execute_result"
    }
   ],
   "source": [
    "portfolio_test"
   ],
   "metadata": {
    "collapsed": false,
    "ExecuteTime": {
     "end_time": "2023-06-16T05:21:33.729348Z",
     "start_time": "2023-06-16T05:21:33.478358Z"
    }
   }
  },
  {
   "cell_type": "markdown",
   "source": [
    "## Preprocessing offer_type column"
   ],
   "metadata": {
    "collapsed": false
   }
  },
  {
   "cell_type": "markdown",
   "source": [
    "Creating dummy variables for offer_type"
   ],
   "metadata": {
    "collapsed": false
   }
  },
  {
   "cell_type": "code",
   "execution_count": 1565,
   "outputs": [],
   "source": [
    "portfolio_test = pd.concat([portfolio_test,pd.get_dummies(portfolio_test['offer_type'])],axis=1)"
   ],
   "metadata": {
    "collapsed": false,
    "ExecuteTime": {
     "end_time": "2023-06-16T05:21:33.754261Z",
     "start_time": "2023-06-16T05:21:33.490077Z"
    }
   }
  },
  {
   "cell_type": "code",
   "execution_count": 1566,
   "outputs": [],
   "source": [
    "portfolio_test.drop('offer_type',axis=1,inplace=True)"
   ],
   "metadata": {
    "collapsed": false,
    "ExecuteTime": {
     "end_time": "2023-06-16T05:21:33.759561Z",
     "start_time": "2023-06-16T05:21:33.499108Z"
    }
   }
  },
  {
   "cell_type": "code",
   "execution_count": 1567,
   "outputs": [
    {
     "data": {
      "text/plain": "                                 id  difficulty  duration  reward  email  \\\n0  ae264e3637204a6fb9bb56bc8210ddfd          10         7      10      1   \n1  4d5c57ea9a6940dd891ad53e9dbe8da0          10         5      10      1   \n2  3f207df678b143eea3cee63160fa8bed           0         4       0      1   \n3  9b98b8c7a33c4b65b9aebfe6a799e6d9           5         7       5      1   \n4  0b1e1539f2cc45b7b9fa7c272da2e1d7          20        10       5      1   \n5  2298d6c36e964ae4a3e7e9706d1fb8c2           7         7       3      1   \n6  fafdcd668e3743c1bb461111dcafc2a4          10        10       2      1   \n7  5a8bc65990b245e5a138643cd4eb9837           0         3       0      1   \n8  f19421c1d4aa40978ebb69ca19b0e20d           5         5       5      1   \n9  2906b810c7d4411798c6938adc9daaa5          10         7       2      1   \n\n   mobile  social  web  bogo  discount  informational  \n0       1       1    0     1         0              0  \n1       1       1    1     1         0              0  \n2       1       0    1     0         0              1  \n3       1       0    1     1         0              0  \n4       0       0    1     0         1              0  \n5       1       1    1     0         1              0  \n6       1       1    1     0         1              0  \n7       1       1    0     0         0              1  \n8       1       1    1     1         0              0  \n9       1       0    1     0         1              0  ",
      "text/html": "<div>\n<style scoped>\n    .dataframe tbody tr th:only-of-type {\n        vertical-align: middle;\n    }\n\n    .dataframe tbody tr th {\n        vertical-align: top;\n    }\n\n    .dataframe thead th {\n        text-align: right;\n    }\n</style>\n<table border=\"1\" class=\"dataframe\">\n  <thead>\n    <tr style=\"text-align: right;\">\n      <th></th>\n      <th>id</th>\n      <th>difficulty</th>\n      <th>duration</th>\n      <th>reward</th>\n      <th>email</th>\n      <th>mobile</th>\n      <th>social</th>\n      <th>web</th>\n      <th>bogo</th>\n      <th>discount</th>\n      <th>informational</th>\n    </tr>\n  </thead>\n  <tbody>\n    <tr>\n      <th>0</th>\n      <td>ae264e3637204a6fb9bb56bc8210ddfd</td>\n      <td>10</td>\n      <td>7</td>\n      <td>10</td>\n      <td>1</td>\n      <td>1</td>\n      <td>1</td>\n      <td>0</td>\n      <td>1</td>\n      <td>0</td>\n      <td>0</td>\n    </tr>\n    <tr>\n      <th>1</th>\n      <td>4d5c57ea9a6940dd891ad53e9dbe8da0</td>\n      <td>10</td>\n      <td>5</td>\n      <td>10</td>\n      <td>1</td>\n      <td>1</td>\n      <td>1</td>\n      <td>1</td>\n      <td>1</td>\n      <td>0</td>\n      <td>0</td>\n    </tr>\n    <tr>\n      <th>2</th>\n      <td>3f207df678b143eea3cee63160fa8bed</td>\n      <td>0</td>\n      <td>4</td>\n      <td>0</td>\n      <td>1</td>\n      <td>1</td>\n      <td>0</td>\n      <td>1</td>\n      <td>0</td>\n      <td>0</td>\n      <td>1</td>\n    </tr>\n    <tr>\n      <th>3</th>\n      <td>9b98b8c7a33c4b65b9aebfe6a799e6d9</td>\n      <td>5</td>\n      <td>7</td>\n      <td>5</td>\n      <td>1</td>\n      <td>1</td>\n      <td>0</td>\n      <td>1</td>\n      <td>1</td>\n      <td>0</td>\n      <td>0</td>\n    </tr>\n    <tr>\n      <th>4</th>\n      <td>0b1e1539f2cc45b7b9fa7c272da2e1d7</td>\n      <td>20</td>\n      <td>10</td>\n      <td>5</td>\n      <td>1</td>\n      <td>0</td>\n      <td>0</td>\n      <td>1</td>\n      <td>0</td>\n      <td>1</td>\n      <td>0</td>\n    </tr>\n    <tr>\n      <th>5</th>\n      <td>2298d6c36e964ae4a3e7e9706d1fb8c2</td>\n      <td>7</td>\n      <td>7</td>\n      <td>3</td>\n      <td>1</td>\n      <td>1</td>\n      <td>1</td>\n      <td>1</td>\n      <td>0</td>\n      <td>1</td>\n      <td>0</td>\n    </tr>\n    <tr>\n      <th>6</th>\n      <td>fafdcd668e3743c1bb461111dcafc2a4</td>\n      <td>10</td>\n      <td>10</td>\n      <td>2</td>\n      <td>1</td>\n      <td>1</td>\n      <td>1</td>\n      <td>1</td>\n      <td>0</td>\n      <td>1</td>\n      <td>0</td>\n    </tr>\n    <tr>\n      <th>7</th>\n      <td>5a8bc65990b245e5a138643cd4eb9837</td>\n      <td>0</td>\n      <td>3</td>\n      <td>0</td>\n      <td>1</td>\n      <td>1</td>\n      <td>1</td>\n      <td>0</td>\n      <td>0</td>\n      <td>0</td>\n      <td>1</td>\n    </tr>\n    <tr>\n      <th>8</th>\n      <td>f19421c1d4aa40978ebb69ca19b0e20d</td>\n      <td>5</td>\n      <td>5</td>\n      <td>5</td>\n      <td>1</td>\n      <td>1</td>\n      <td>1</td>\n      <td>1</td>\n      <td>1</td>\n      <td>0</td>\n      <td>0</td>\n    </tr>\n    <tr>\n      <th>9</th>\n      <td>2906b810c7d4411798c6938adc9daaa5</td>\n      <td>10</td>\n      <td>7</td>\n      <td>2</td>\n      <td>1</td>\n      <td>1</td>\n      <td>0</td>\n      <td>1</td>\n      <td>0</td>\n      <td>1</td>\n      <td>0</td>\n    </tr>\n  </tbody>\n</table>\n</div>"
     },
     "execution_count": 1567,
     "metadata": {},
     "output_type": "execute_result"
    }
   ],
   "source": [
    "# Re-ordering the columns\n",
    "portfolio_test=portfolio_test.reindex(columns=['id', 'difficulty', 'duration', 'reward', 'email', 'mobile', 'social',\n",
    "                                        'web', 'bogo', 'discount', 'informational'])\n",
    "portfolio_test"
   ],
   "metadata": {
    "collapsed": false,
    "ExecuteTime": {
     "end_time": "2023-06-16T05:21:33.781733Z",
     "start_time": "2023-06-16T05:21:33.515281Z"
    }
   }
  },
  {
   "cell_type": "code",
   "execution_count": 1568,
   "outputs": [],
   "source": [
    "portfolio_test.rename(columns={\"id\":\"offer_id\"},inplace=True)"
   ],
   "metadata": {
    "collapsed": false,
    "ExecuteTime": {
     "end_time": "2023-06-16T05:21:33.781963Z",
     "start_time": "2023-06-16T05:21:33.524801Z"
    }
   }
  },
  {
   "cell_type": "code",
   "execution_count": 1569,
   "outputs": [],
   "source": [
    "portfolio = portfolio_test.copy()"
   ],
   "metadata": {
    "collapsed": false,
    "ExecuteTime": {
     "end_time": "2023-06-16T05:21:33.782047Z",
     "start_time": "2023-06-16T05:21:33.530180Z"
    }
   }
  },
  {
   "cell_type": "code",
   "execution_count": 1570,
   "outputs": [
    {
     "data": {
      "text/plain": "                           offer_id  difficulty  duration  reward  email  \\\n0  ae264e3637204a6fb9bb56bc8210ddfd          10         7      10      1   \n1  4d5c57ea9a6940dd891ad53e9dbe8da0          10         5      10      1   \n2  3f207df678b143eea3cee63160fa8bed           0         4       0      1   \n3  9b98b8c7a33c4b65b9aebfe6a799e6d9           5         7       5      1   \n4  0b1e1539f2cc45b7b9fa7c272da2e1d7          20        10       5      1   \n5  2298d6c36e964ae4a3e7e9706d1fb8c2           7         7       3      1   \n6  fafdcd668e3743c1bb461111dcafc2a4          10        10       2      1   \n7  5a8bc65990b245e5a138643cd4eb9837           0         3       0      1   \n8  f19421c1d4aa40978ebb69ca19b0e20d           5         5       5      1   \n9  2906b810c7d4411798c6938adc9daaa5          10         7       2      1   \n\n   mobile  social  web  bogo  discount  informational  \n0       1       1    0     1         0              0  \n1       1       1    1     1         0              0  \n2       1       0    1     0         0              1  \n3       1       0    1     1         0              0  \n4       0       0    1     0         1              0  \n5       1       1    1     0         1              0  \n6       1       1    1     0         1              0  \n7       1       1    0     0         0              1  \n8       1       1    1     1         0              0  \n9       1       0    1     0         1              0  ",
      "text/html": "<div>\n<style scoped>\n    .dataframe tbody tr th:only-of-type {\n        vertical-align: middle;\n    }\n\n    .dataframe tbody tr th {\n        vertical-align: top;\n    }\n\n    .dataframe thead th {\n        text-align: right;\n    }\n</style>\n<table border=\"1\" class=\"dataframe\">\n  <thead>\n    <tr style=\"text-align: right;\">\n      <th></th>\n      <th>offer_id</th>\n      <th>difficulty</th>\n      <th>duration</th>\n      <th>reward</th>\n      <th>email</th>\n      <th>mobile</th>\n      <th>social</th>\n      <th>web</th>\n      <th>bogo</th>\n      <th>discount</th>\n      <th>informational</th>\n    </tr>\n  </thead>\n  <tbody>\n    <tr>\n      <th>0</th>\n      <td>ae264e3637204a6fb9bb56bc8210ddfd</td>\n      <td>10</td>\n      <td>7</td>\n      <td>10</td>\n      <td>1</td>\n      <td>1</td>\n      <td>1</td>\n      <td>0</td>\n      <td>1</td>\n      <td>0</td>\n      <td>0</td>\n    </tr>\n    <tr>\n      <th>1</th>\n      <td>4d5c57ea9a6940dd891ad53e9dbe8da0</td>\n      <td>10</td>\n      <td>5</td>\n      <td>10</td>\n      <td>1</td>\n      <td>1</td>\n      <td>1</td>\n      <td>1</td>\n      <td>1</td>\n      <td>0</td>\n      <td>0</td>\n    </tr>\n    <tr>\n      <th>2</th>\n      <td>3f207df678b143eea3cee63160fa8bed</td>\n      <td>0</td>\n      <td>4</td>\n      <td>0</td>\n      <td>1</td>\n      <td>1</td>\n      <td>0</td>\n      <td>1</td>\n      <td>0</td>\n      <td>0</td>\n      <td>1</td>\n    </tr>\n    <tr>\n      <th>3</th>\n      <td>9b98b8c7a33c4b65b9aebfe6a799e6d9</td>\n      <td>5</td>\n      <td>7</td>\n      <td>5</td>\n      <td>1</td>\n      <td>1</td>\n      <td>0</td>\n      <td>1</td>\n      <td>1</td>\n      <td>0</td>\n      <td>0</td>\n    </tr>\n    <tr>\n      <th>4</th>\n      <td>0b1e1539f2cc45b7b9fa7c272da2e1d7</td>\n      <td>20</td>\n      <td>10</td>\n      <td>5</td>\n      <td>1</td>\n      <td>0</td>\n      <td>0</td>\n      <td>1</td>\n      <td>0</td>\n      <td>1</td>\n      <td>0</td>\n    </tr>\n    <tr>\n      <th>5</th>\n      <td>2298d6c36e964ae4a3e7e9706d1fb8c2</td>\n      <td>7</td>\n      <td>7</td>\n      <td>3</td>\n      <td>1</td>\n      <td>1</td>\n      <td>1</td>\n      <td>1</td>\n      <td>0</td>\n      <td>1</td>\n      <td>0</td>\n    </tr>\n    <tr>\n      <th>6</th>\n      <td>fafdcd668e3743c1bb461111dcafc2a4</td>\n      <td>10</td>\n      <td>10</td>\n      <td>2</td>\n      <td>1</td>\n      <td>1</td>\n      <td>1</td>\n      <td>1</td>\n      <td>0</td>\n      <td>1</td>\n      <td>0</td>\n    </tr>\n    <tr>\n      <th>7</th>\n      <td>5a8bc65990b245e5a138643cd4eb9837</td>\n      <td>0</td>\n      <td>3</td>\n      <td>0</td>\n      <td>1</td>\n      <td>1</td>\n      <td>1</td>\n      <td>0</td>\n      <td>0</td>\n      <td>0</td>\n      <td>1</td>\n    </tr>\n    <tr>\n      <th>8</th>\n      <td>f19421c1d4aa40978ebb69ca19b0e20d</td>\n      <td>5</td>\n      <td>5</td>\n      <td>5</td>\n      <td>1</td>\n      <td>1</td>\n      <td>1</td>\n      <td>1</td>\n      <td>1</td>\n      <td>0</td>\n      <td>0</td>\n    </tr>\n    <tr>\n      <th>9</th>\n      <td>2906b810c7d4411798c6938adc9daaa5</td>\n      <td>10</td>\n      <td>7</td>\n      <td>2</td>\n      <td>1</td>\n      <td>1</td>\n      <td>0</td>\n      <td>1</td>\n      <td>0</td>\n      <td>1</td>\n      <td>0</td>\n    </tr>\n  </tbody>\n</table>\n</div>"
     },
     "execution_count": 1570,
     "metadata": {},
     "output_type": "execute_result"
    }
   ],
   "source": [
    "portfolio"
   ],
   "metadata": {
    "collapsed": false,
    "ExecuteTime": {
     "end_time": "2023-06-16T05:21:33.782235Z",
     "start_time": "2023-06-16T05:21:33.535607Z"
    }
   }
  },
  {
   "cell_type": "markdown",
   "source": [
    "## transcript dataset"
   ],
   "metadata": {
    "collapsed": false
   }
  },
  {
   "cell_type": "markdown",
   "source": [
    "Preprocessing event columns"
   ],
   "metadata": {
    "collapsed": false
   }
  },
  {
   "cell_type": "code",
   "execution_count": 1571,
   "outputs": [
    {
     "data": {
      "text/plain": "                             customer_id           event  \\\n0       78afa995795e4d85b5d9ceeca43f5fef  offer received   \n1       a03223e636434f42ac4c3df47e8bac43  offer received   \n2       e2127556f4f64592b11af22de27a7932  offer received   \n3       8ec6ce2a7e7949b1bf142def7d0e0586  offer received   \n4       68617ca6246f4fbc85e91a2a49552598  offer received   \n...                                  ...             ...   \n306529  b3a1272bc9904337b331bf348c3e8c17     transaction   \n306530  68213b08d99a4ae1b0dcb72aebd9aa35     transaction   \n306531  a00058cf10334a308c68e7631c529907     transaction   \n306532  76ddbd6576844afe811f1a3c0fbb5bec     transaction   \n306533  c02b10e8752c4d8e9b73f918558531f7     transaction   \n\n                                                   value  time  \\\n0       {'offer id': '9b98b8c7a33c4b65b9aebfe6a799e6d9'}     0   \n1       {'offer id': '0b1e1539f2cc45b7b9fa7c272da2e1d7'}     0   \n2       {'offer id': '2906b810c7d4411798c6938adc9daaa5'}     0   \n3       {'offer id': 'fafdcd668e3743c1bb461111dcafc2a4'}     0   \n4       {'offer id': '4d5c57ea9a6940dd891ad53e9dbe8da0'}     0   \n...                                                  ...   ...   \n306529                    {'amount': 1.5899999999999999}   714   \n306530                                  {'amount': 9.53}   714   \n306531                                  {'amount': 3.61}   714   \n306532                    {'amount': 3.5300000000000002}   714   \n306533                                  {'amount': 4.05}   714   \n\n                                offer_id  amount  \n0       9b98b8c7a33c4b65b9aebfe6a799e6d9     NaN  \n1       0b1e1539f2cc45b7b9fa7c272da2e1d7     NaN  \n2       2906b810c7d4411798c6938adc9daaa5     NaN  \n3       fafdcd668e3743c1bb461111dcafc2a4     NaN  \n4       4d5c57ea9a6940dd891ad53e9dbe8da0     NaN  \n...                                  ...     ...  \n306529                              None    1.59  \n306530                              None    9.53  \n306531                              None    3.61  \n306532                              None    3.53  \n306533                              None    4.05  \n\n[306534 rows x 6 columns]",
      "text/html": "<div>\n<style scoped>\n    .dataframe tbody tr th:only-of-type {\n        vertical-align: middle;\n    }\n\n    .dataframe tbody tr th {\n        vertical-align: top;\n    }\n\n    .dataframe thead th {\n        text-align: right;\n    }\n</style>\n<table border=\"1\" class=\"dataframe\">\n  <thead>\n    <tr style=\"text-align: right;\">\n      <th></th>\n      <th>customer_id</th>\n      <th>event</th>\n      <th>value</th>\n      <th>time</th>\n      <th>offer_id</th>\n      <th>amount</th>\n    </tr>\n  </thead>\n  <tbody>\n    <tr>\n      <th>0</th>\n      <td>78afa995795e4d85b5d9ceeca43f5fef</td>\n      <td>offer received</td>\n      <td>{'offer id': '9b98b8c7a33c4b65b9aebfe6a799e6d9'}</td>\n      <td>0</td>\n      <td>9b98b8c7a33c4b65b9aebfe6a799e6d9</td>\n      <td>NaN</td>\n    </tr>\n    <tr>\n      <th>1</th>\n      <td>a03223e636434f42ac4c3df47e8bac43</td>\n      <td>offer received</td>\n      <td>{'offer id': '0b1e1539f2cc45b7b9fa7c272da2e1d7'}</td>\n      <td>0</td>\n      <td>0b1e1539f2cc45b7b9fa7c272da2e1d7</td>\n      <td>NaN</td>\n    </tr>\n    <tr>\n      <th>2</th>\n      <td>e2127556f4f64592b11af22de27a7932</td>\n      <td>offer received</td>\n      <td>{'offer id': '2906b810c7d4411798c6938adc9daaa5'}</td>\n      <td>0</td>\n      <td>2906b810c7d4411798c6938adc9daaa5</td>\n      <td>NaN</td>\n    </tr>\n    <tr>\n      <th>3</th>\n      <td>8ec6ce2a7e7949b1bf142def7d0e0586</td>\n      <td>offer received</td>\n      <td>{'offer id': 'fafdcd668e3743c1bb461111dcafc2a4'}</td>\n      <td>0</td>\n      <td>fafdcd668e3743c1bb461111dcafc2a4</td>\n      <td>NaN</td>\n    </tr>\n    <tr>\n      <th>4</th>\n      <td>68617ca6246f4fbc85e91a2a49552598</td>\n      <td>offer received</td>\n      <td>{'offer id': '4d5c57ea9a6940dd891ad53e9dbe8da0'}</td>\n      <td>0</td>\n      <td>4d5c57ea9a6940dd891ad53e9dbe8da0</td>\n      <td>NaN</td>\n    </tr>\n    <tr>\n      <th>...</th>\n      <td>...</td>\n      <td>...</td>\n      <td>...</td>\n      <td>...</td>\n      <td>...</td>\n      <td>...</td>\n    </tr>\n    <tr>\n      <th>306529</th>\n      <td>b3a1272bc9904337b331bf348c3e8c17</td>\n      <td>transaction</td>\n      <td>{'amount': 1.5899999999999999}</td>\n      <td>714</td>\n      <td>None</td>\n      <td>1.59</td>\n    </tr>\n    <tr>\n      <th>306530</th>\n      <td>68213b08d99a4ae1b0dcb72aebd9aa35</td>\n      <td>transaction</td>\n      <td>{'amount': 9.53}</td>\n      <td>714</td>\n      <td>None</td>\n      <td>9.53</td>\n    </tr>\n    <tr>\n      <th>306531</th>\n      <td>a00058cf10334a308c68e7631c529907</td>\n      <td>transaction</td>\n      <td>{'amount': 3.61}</td>\n      <td>714</td>\n      <td>None</td>\n      <td>3.61</td>\n    </tr>\n    <tr>\n      <th>306532</th>\n      <td>76ddbd6576844afe811f1a3c0fbb5bec</td>\n      <td>transaction</td>\n      <td>{'amount': 3.5300000000000002}</td>\n      <td>714</td>\n      <td>None</td>\n      <td>3.53</td>\n    </tr>\n    <tr>\n      <th>306533</th>\n      <td>c02b10e8752c4d8e9b73f918558531f7</td>\n      <td>transaction</td>\n      <td>{'amount': 4.05}</td>\n      <td>714</td>\n      <td>None</td>\n      <td>4.05</td>\n    </tr>\n  </tbody>\n</table>\n<p>306534 rows × 6 columns</p>\n</div>"
     },
     "execution_count": 1571,
     "metadata": {},
     "output_type": "execute_result"
    }
   ],
   "source": [
    "transcript"
   ],
   "metadata": {
    "collapsed": false,
    "ExecuteTime": {
     "end_time": "2023-06-16T05:21:33.782526Z",
     "start_time": "2023-06-16T05:21:33.565503Z"
    }
   }
  },
  {
   "cell_type": "code",
   "execution_count": 1572,
   "outputs": [],
   "source": [
    "# Dropping the value column since we have already expanded in an EDA section\n",
    "transcript.drop('value',axis=1,inplace=True)"
   ],
   "metadata": {
    "collapsed": false,
    "ExecuteTime": {
     "end_time": "2023-06-16T05:21:33.849257Z",
     "start_time": "2023-06-16T05:21:33.569937Z"
    }
   }
  },
  {
   "cell_type": "markdown",
   "source": [
    "To ensure our analysis focuses on offer-related events, we will eliminate all transaction events as they are not directly relevant to offers. Additionally, we will exclude all instances of 'offer received' events, as our main focus is on determining whether customers only viewed the offer or both viewed and completed it."
   ],
   "metadata": {
    "collapsed": false
   }
  },
  {
   "cell_type": "code",
   "execution_count": 1573,
   "outputs": [
    {
     "data": {
      "text/plain": "customer_id     object\nevent           object\ntime             int64\noffer_id        object\namount         float64\ndtype: object"
     },
     "execution_count": 1573,
     "metadata": {},
     "output_type": "execute_result"
    }
   ],
   "source": [
    "transcript.dtypes"
   ],
   "metadata": {
    "collapsed": false,
    "ExecuteTime": {
     "end_time": "2023-06-16T05:21:33.877144Z",
     "start_time": "2023-06-16T05:21:33.626929Z"
    }
   }
  },
  {
   "cell_type": "code",
   "execution_count": 1574,
   "outputs": [
    {
     "data": {
      "text/plain": "array([   nan,   0.83,  34.56, ..., 685.07, 405.04, 476.33])"
     },
     "execution_count": 1574,
     "metadata": {},
     "output_type": "execute_result"
    }
   ],
   "source": [
    "transcript['amount'].unique()"
   ],
   "metadata": {
    "collapsed": false,
    "ExecuteTime": {
     "end_time": "2023-06-16T05:21:33.899455Z",
     "start_time": "2023-06-16T05:21:33.633768Z"
    }
   }
  },
  {
   "cell_type": "code",
   "execution_count": 1738,
   "outputs": [
    {
     "data": {
      "text/plain": "                            customer_id            event  time  \\\n12650  389bc3fa690240e798340f5a15918d5c     offer viewed     0   \n12651  d1ede868e29245ea91818a903fec04c6     offer viewed     0   \n12652  102e9454054946fda62242d2e176fdce     offer viewed     0   \n12653  02c083884c7d45b39cc68e1314fec56c     offer viewed     0   \n12655  be8a5d1981a2458d90b255ddc7e0d174     offer viewed     0   \n12656  9fa9ae8f57894cc9a3b8a9bbe0fc1b2f     offer viewed     0   \n12658  9fa9ae8f57894cc9a3b8a9bbe0fc1b2f  offer completed     0   \n12660  8c7df0c393db488aac3e58b06a7ea5f9     offer viewed     0   \n12661  e528ceb341964128aaf58a59733ec2af     offer viewed     0   \n12662  262ad0fb526a4d53b572007da60cce24     offer viewed     0   \n\n                               offer_id  amount  \n12650  f19421c1d4aa40978ebb69ca19b0e20d     NaN  \n12651  5a8bc65990b245e5a138643cd4eb9837     NaN  \n12652  4d5c57ea9a6940dd891ad53e9dbe8da0     NaN  \n12653  ae264e3637204a6fb9bb56bc8210ddfd     NaN  \n12655  5a8bc65990b245e5a138643cd4eb9837     NaN  \n12656  2906b810c7d4411798c6938adc9daaa5     NaN  \n12658  2906b810c7d4411798c6938adc9daaa5     NaN  \n12660  2298d6c36e964ae4a3e7e9706d1fb8c2     NaN  \n12661  2298d6c36e964ae4a3e7e9706d1fb8c2     NaN  \n12662  f19421c1d4aa40978ebb69ca19b0e20d     NaN  ",
      "text/html": "<div>\n<style scoped>\n    .dataframe tbody tr th:only-of-type {\n        vertical-align: middle;\n    }\n\n    .dataframe tbody tr th {\n        vertical-align: top;\n    }\n\n    .dataframe thead th {\n        text-align: right;\n    }\n</style>\n<table border=\"1\" class=\"dataframe\">\n  <thead>\n    <tr style=\"text-align: right;\">\n      <th></th>\n      <th>customer_id</th>\n      <th>event</th>\n      <th>time</th>\n      <th>offer_id</th>\n      <th>amount</th>\n    </tr>\n  </thead>\n  <tbody>\n    <tr>\n      <th>12650</th>\n      <td>389bc3fa690240e798340f5a15918d5c</td>\n      <td>offer viewed</td>\n      <td>0</td>\n      <td>f19421c1d4aa40978ebb69ca19b0e20d</td>\n      <td>NaN</td>\n    </tr>\n    <tr>\n      <th>12651</th>\n      <td>d1ede868e29245ea91818a903fec04c6</td>\n      <td>offer viewed</td>\n      <td>0</td>\n      <td>5a8bc65990b245e5a138643cd4eb9837</td>\n      <td>NaN</td>\n    </tr>\n    <tr>\n      <th>12652</th>\n      <td>102e9454054946fda62242d2e176fdce</td>\n      <td>offer viewed</td>\n      <td>0</td>\n      <td>4d5c57ea9a6940dd891ad53e9dbe8da0</td>\n      <td>NaN</td>\n    </tr>\n    <tr>\n      <th>12653</th>\n      <td>02c083884c7d45b39cc68e1314fec56c</td>\n      <td>offer viewed</td>\n      <td>0</td>\n      <td>ae264e3637204a6fb9bb56bc8210ddfd</td>\n      <td>NaN</td>\n    </tr>\n    <tr>\n      <th>12655</th>\n      <td>be8a5d1981a2458d90b255ddc7e0d174</td>\n      <td>offer viewed</td>\n      <td>0</td>\n      <td>5a8bc65990b245e5a138643cd4eb9837</td>\n      <td>NaN</td>\n    </tr>\n    <tr>\n      <th>12656</th>\n      <td>9fa9ae8f57894cc9a3b8a9bbe0fc1b2f</td>\n      <td>offer viewed</td>\n      <td>0</td>\n      <td>2906b810c7d4411798c6938adc9daaa5</td>\n      <td>NaN</td>\n    </tr>\n    <tr>\n      <th>12658</th>\n      <td>9fa9ae8f57894cc9a3b8a9bbe0fc1b2f</td>\n      <td>offer completed</td>\n      <td>0</td>\n      <td>2906b810c7d4411798c6938adc9daaa5</td>\n      <td>NaN</td>\n    </tr>\n    <tr>\n      <th>12660</th>\n      <td>8c7df0c393db488aac3e58b06a7ea5f9</td>\n      <td>offer viewed</td>\n      <td>0</td>\n      <td>2298d6c36e964ae4a3e7e9706d1fb8c2</td>\n      <td>NaN</td>\n    </tr>\n    <tr>\n      <th>12661</th>\n      <td>e528ceb341964128aaf58a59733ec2af</td>\n      <td>offer viewed</td>\n      <td>0</td>\n      <td>2298d6c36e964ae4a3e7e9706d1fb8c2</td>\n      <td>NaN</td>\n    </tr>\n    <tr>\n      <th>12662</th>\n      <td>262ad0fb526a4d53b572007da60cce24</td>\n      <td>offer viewed</td>\n      <td>0</td>\n      <td>f19421c1d4aa40978ebb69ca19b0e20d</td>\n      <td>NaN</td>\n    </tr>\n  </tbody>\n</table>\n</div>"
     },
     "execution_count": 1738,
     "metadata": {},
     "output_type": "execute_result"
    }
   ],
   "source": [
    "transcript.head(10)"
   ],
   "metadata": {
    "collapsed": false,
    "ExecuteTime": {
     "end_time": "2023-06-18T08:16:33.805200Z",
     "start_time": "2023-06-18T08:16:33.800827Z"
    }
   }
  },
  {
   "cell_type": "code",
   "execution_count": 1575,
   "outputs": [],
   "source": [
    "transcript = transcript[transcript['event'] != 'transaction']\n",
    "transcript = transcript[transcript['event'] != 'offer received']"
   ],
   "metadata": {
    "collapsed": false,
    "ExecuteTime": {
     "end_time": "2023-06-16T05:21:34.129506Z",
     "start_time": "2023-06-16T05:21:33.688655Z"
    }
   }
  },
  {
   "cell_type": "code",
   "execution_count": 1576,
   "outputs": [],
   "source": [
    "profile_columns_to_convert = ['male','female','other_gender']\n",
    "profile[profile_columns_to_convert] = profile[profile_columns_to_convert].astype(\"int64\")\n",
    "\n",
    "portfolio_columns_to_convert = ['email','mobile','social','web','bogo','discount']\n",
    "portfolio[portfolio_columns_to_convert] = portfolio[portfolio_columns_to_convert].astype(\"int64\")"
   ],
   "metadata": {
    "collapsed": false,
    "ExecuteTime": {
     "end_time": "2023-06-16T05:21:34.130025Z",
     "start_time": "2023-06-16T05:21:33.849481Z"
    }
   }
  },
  {
   "cell_type": "markdown",
   "source": [
    "## Merging all datasets\n"
   ],
   "metadata": {
    "collapsed": false
   }
  },
  {
   "cell_type": "code",
   "execution_count": 1577,
   "outputs": [],
   "source": [
    "# Merging 'transcript' dataset with 'portfolio' on 'offer_id'\n",
    "df_h = transcript.merge(portfolio,how='left',on='offer_id')"
   ],
   "metadata": {
    "collapsed": false,
    "ExecuteTime": {
     "end_time": "2023-06-16T05:21:34.433316Z",
     "start_time": "2023-06-16T05:21:33.877338Z"
    }
   }
  },
  {
   "cell_type": "code",
   "execution_count": 1578,
   "outputs": [],
   "source": [
    "# Joining 'df' dataset with 'profile' on 'customer_id'\n",
    "df = df_h.merge(profile, on = 'customer_id')"
   ],
   "metadata": {
    "collapsed": false,
    "ExecuteTime": {
     "end_time": "2023-06-16T05:21:34.478856Z",
     "start_time": "2023-06-16T05:21:33.945558Z"
    }
   }
  },
  {
   "cell_type": "code",
   "execution_count": 1579,
   "outputs": [],
   "source": [
    "# New column with binary values that corresponds with the values in event column\n",
    "df['event_result'] = (df['event'] == 'offer completed').astype(int)\n",
    "df['event_result'] = df['event_result'].fillna(0)"
   ],
   "metadata": {
    "collapsed": false,
    "ExecuteTime": {
     "end_time": "2023-06-16T05:21:34.479111Z",
     "start_time": "2023-06-16T05:21:34.054213Z"
    }
   }
  },
  {
   "cell_type": "code",
   "execution_count": 1580,
   "outputs": [
    {
     "data": {
      "text/plain": "                            customer_id            event  time  \\\n0      389bc3fa690240e798340f5a15918d5c     offer viewed     0   \n1      389bc3fa690240e798340f5a15918d5c  offer completed    60   \n2      389bc3fa690240e798340f5a15918d5c     offer viewed   192   \n3      389bc3fa690240e798340f5a15918d5c     offer viewed   354   \n4      389bc3fa690240e798340f5a15918d5c     offer viewed   438   \n...                                 ...              ...   ...   \n82299  cff228bfca314af0b81f421c7e33cce5     offer viewed   690   \n82300  cff228bfca314af0b81f421c7e33cce5  offer completed   696   \n82301  86ee5a4052274038a6eb8f22838e2438  offer completed   696   \n82302  b22c0e74398046bd94c404285b01cd16     offer viewed   696   \n82303  9ad81fe319ba406c96f2469926aac077  offer completed   702   \n\n                               offer_id  amount  difficulty  duration  reward  \\\n0      f19421c1d4aa40978ebb69ca19b0e20d     NaN           5         5       5   \n1      f19421c1d4aa40978ebb69ca19b0e20d     NaN           5         5       5   \n2      9b98b8c7a33c4b65b9aebfe6a799e6d9     NaN           5         7       5   \n3      2906b810c7d4411798c6938adc9daaa5     NaN          10         7       2   \n4      9b98b8c7a33c4b65b9aebfe6a799e6d9     NaN           5         7       5   \n...                                 ...     ...         ...       ...     ...   \n82299  0b1e1539f2cc45b7b9fa7c272da2e1d7     NaN          20        10       5   \n82300  0b1e1539f2cc45b7b9fa7c272da2e1d7     NaN          20        10       5   \n82301  9b98b8c7a33c4b65b9aebfe6a799e6d9     NaN           5         7       5   \n82302  ae264e3637204a6fb9bb56bc8210ddfd     NaN          10         7      10   \n82303  2906b810c7d4411798c6938adc9daaa5     NaN          10         7       2   \n\n       email  mobile  ...  informational  became_member_on  female  male  \\\n0          1       1  ...              0        2018-02-09       0     1   \n1          1       1  ...              0        2018-02-09       0     1   \n2          1       1  ...              0        2018-02-09       0     1   \n3          1       1  ...              0        2018-02-09       0     1   \n4          1       1  ...              0        2018-02-09       0     1   \n...      ...     ...  ...            ...               ...     ...   ...   \n82299      1       0  ...              0        2015-08-15       1     0   \n82300      1       0  ...              0        2015-08-15       1     0   \n82301      1       1  ...              0        2017-01-15       0     1   \n82302      1       1  ...              0        2018-01-12       1     0   \n82303      1       1  ...              0        2016-12-13       1     0   \n\n       other_gender age_bins  income_bins  member_year  member_month  \\\n0                 0        2            1         2018             2   \n1                 0        2            1         2018             2   \n2                 0        2            1         2018             2   \n3                 0        2            1         2018             2   \n4                 0        2            1         2018             2   \n...             ...      ...          ...          ...           ...   \n82299             0        2            2         2015             8   \n82300             0        2            2         2015             8   \n82301             0        2            1         2017             1   \n82302             0        3            2         2018             1   \n82303             0        2            1         2016            12   \n\n      event_result  \n0                0  \n1                1  \n2                0  \n3                0  \n4                0  \n...            ...  \n82299            0  \n82300            1  \n82301            1  \n82302            0  \n82303            1  \n\n[82304 rows x 24 columns]",
      "text/html": "<div>\n<style scoped>\n    .dataframe tbody tr th:only-of-type {\n        vertical-align: middle;\n    }\n\n    .dataframe tbody tr th {\n        vertical-align: top;\n    }\n\n    .dataframe thead th {\n        text-align: right;\n    }\n</style>\n<table border=\"1\" class=\"dataframe\">\n  <thead>\n    <tr style=\"text-align: right;\">\n      <th></th>\n      <th>customer_id</th>\n      <th>event</th>\n      <th>time</th>\n      <th>offer_id</th>\n      <th>amount</th>\n      <th>difficulty</th>\n      <th>duration</th>\n      <th>reward</th>\n      <th>email</th>\n      <th>mobile</th>\n      <th>...</th>\n      <th>informational</th>\n      <th>became_member_on</th>\n      <th>female</th>\n      <th>male</th>\n      <th>other_gender</th>\n      <th>age_bins</th>\n      <th>income_bins</th>\n      <th>member_year</th>\n      <th>member_month</th>\n      <th>event_result</th>\n    </tr>\n  </thead>\n  <tbody>\n    <tr>\n      <th>0</th>\n      <td>389bc3fa690240e798340f5a15918d5c</td>\n      <td>offer viewed</td>\n      <td>0</td>\n      <td>f19421c1d4aa40978ebb69ca19b0e20d</td>\n      <td>NaN</td>\n      <td>5</td>\n      <td>5</td>\n      <td>5</td>\n      <td>1</td>\n      <td>1</td>\n      <td>...</td>\n      <td>0</td>\n      <td>2018-02-09</td>\n      <td>0</td>\n      <td>1</td>\n      <td>0</td>\n      <td>2</td>\n      <td>1</td>\n      <td>2018</td>\n      <td>2</td>\n      <td>0</td>\n    </tr>\n    <tr>\n      <th>1</th>\n      <td>389bc3fa690240e798340f5a15918d5c</td>\n      <td>offer completed</td>\n      <td>60</td>\n      <td>f19421c1d4aa40978ebb69ca19b0e20d</td>\n      <td>NaN</td>\n      <td>5</td>\n      <td>5</td>\n      <td>5</td>\n      <td>1</td>\n      <td>1</td>\n      <td>...</td>\n      <td>0</td>\n      <td>2018-02-09</td>\n      <td>0</td>\n      <td>1</td>\n      <td>0</td>\n      <td>2</td>\n      <td>1</td>\n      <td>2018</td>\n      <td>2</td>\n      <td>1</td>\n    </tr>\n    <tr>\n      <th>2</th>\n      <td>389bc3fa690240e798340f5a15918d5c</td>\n      <td>offer viewed</td>\n      <td>192</td>\n      <td>9b98b8c7a33c4b65b9aebfe6a799e6d9</td>\n      <td>NaN</td>\n      <td>5</td>\n      <td>7</td>\n      <td>5</td>\n      <td>1</td>\n      <td>1</td>\n      <td>...</td>\n      <td>0</td>\n      <td>2018-02-09</td>\n      <td>0</td>\n      <td>1</td>\n      <td>0</td>\n      <td>2</td>\n      <td>1</td>\n      <td>2018</td>\n      <td>2</td>\n      <td>0</td>\n    </tr>\n    <tr>\n      <th>3</th>\n      <td>389bc3fa690240e798340f5a15918d5c</td>\n      <td>offer viewed</td>\n      <td>354</td>\n      <td>2906b810c7d4411798c6938adc9daaa5</td>\n      <td>NaN</td>\n      <td>10</td>\n      <td>7</td>\n      <td>2</td>\n      <td>1</td>\n      <td>1</td>\n      <td>...</td>\n      <td>0</td>\n      <td>2018-02-09</td>\n      <td>0</td>\n      <td>1</td>\n      <td>0</td>\n      <td>2</td>\n      <td>1</td>\n      <td>2018</td>\n      <td>2</td>\n      <td>0</td>\n    </tr>\n    <tr>\n      <th>4</th>\n      <td>389bc3fa690240e798340f5a15918d5c</td>\n      <td>offer viewed</td>\n      <td>438</td>\n      <td>9b98b8c7a33c4b65b9aebfe6a799e6d9</td>\n      <td>NaN</td>\n      <td>5</td>\n      <td>7</td>\n      <td>5</td>\n      <td>1</td>\n      <td>1</td>\n      <td>...</td>\n      <td>0</td>\n      <td>2018-02-09</td>\n      <td>0</td>\n      <td>1</td>\n      <td>0</td>\n      <td>2</td>\n      <td>1</td>\n      <td>2018</td>\n      <td>2</td>\n      <td>0</td>\n    </tr>\n    <tr>\n      <th>...</th>\n      <td>...</td>\n      <td>...</td>\n      <td>...</td>\n      <td>...</td>\n      <td>...</td>\n      <td>...</td>\n      <td>...</td>\n      <td>...</td>\n      <td>...</td>\n      <td>...</td>\n      <td>...</td>\n      <td>...</td>\n      <td>...</td>\n      <td>...</td>\n      <td>...</td>\n      <td>...</td>\n      <td>...</td>\n      <td>...</td>\n      <td>...</td>\n      <td>...</td>\n      <td>...</td>\n    </tr>\n    <tr>\n      <th>82299</th>\n      <td>cff228bfca314af0b81f421c7e33cce5</td>\n      <td>offer viewed</td>\n      <td>690</td>\n      <td>0b1e1539f2cc45b7b9fa7c272da2e1d7</td>\n      <td>NaN</td>\n      <td>20</td>\n      <td>10</td>\n      <td>5</td>\n      <td>1</td>\n      <td>0</td>\n      <td>...</td>\n      <td>0</td>\n      <td>2015-08-15</td>\n      <td>1</td>\n      <td>0</td>\n      <td>0</td>\n      <td>2</td>\n      <td>2</td>\n      <td>2015</td>\n      <td>8</td>\n      <td>0</td>\n    </tr>\n    <tr>\n      <th>82300</th>\n      <td>cff228bfca314af0b81f421c7e33cce5</td>\n      <td>offer completed</td>\n      <td>696</td>\n      <td>0b1e1539f2cc45b7b9fa7c272da2e1d7</td>\n      <td>NaN</td>\n      <td>20</td>\n      <td>10</td>\n      <td>5</td>\n      <td>1</td>\n      <td>0</td>\n      <td>...</td>\n      <td>0</td>\n      <td>2015-08-15</td>\n      <td>1</td>\n      <td>0</td>\n      <td>0</td>\n      <td>2</td>\n      <td>2</td>\n      <td>2015</td>\n      <td>8</td>\n      <td>1</td>\n    </tr>\n    <tr>\n      <th>82301</th>\n      <td>86ee5a4052274038a6eb8f22838e2438</td>\n      <td>offer completed</td>\n      <td>696</td>\n      <td>9b98b8c7a33c4b65b9aebfe6a799e6d9</td>\n      <td>NaN</td>\n      <td>5</td>\n      <td>7</td>\n      <td>5</td>\n      <td>1</td>\n      <td>1</td>\n      <td>...</td>\n      <td>0</td>\n      <td>2017-01-15</td>\n      <td>0</td>\n      <td>1</td>\n      <td>0</td>\n      <td>2</td>\n      <td>1</td>\n      <td>2017</td>\n      <td>1</td>\n      <td>1</td>\n    </tr>\n    <tr>\n      <th>82302</th>\n      <td>b22c0e74398046bd94c404285b01cd16</td>\n      <td>offer viewed</td>\n      <td>696</td>\n      <td>ae264e3637204a6fb9bb56bc8210ddfd</td>\n      <td>NaN</td>\n      <td>10</td>\n      <td>7</td>\n      <td>10</td>\n      <td>1</td>\n      <td>1</td>\n      <td>...</td>\n      <td>0</td>\n      <td>2018-01-12</td>\n      <td>1</td>\n      <td>0</td>\n      <td>0</td>\n      <td>3</td>\n      <td>2</td>\n      <td>2018</td>\n      <td>1</td>\n      <td>0</td>\n    </tr>\n    <tr>\n      <th>82303</th>\n      <td>9ad81fe319ba406c96f2469926aac077</td>\n      <td>offer completed</td>\n      <td>702</td>\n      <td>2906b810c7d4411798c6938adc9daaa5</td>\n      <td>NaN</td>\n      <td>10</td>\n      <td>7</td>\n      <td>2</td>\n      <td>1</td>\n      <td>1</td>\n      <td>...</td>\n      <td>0</td>\n      <td>2016-12-13</td>\n      <td>1</td>\n      <td>0</td>\n      <td>0</td>\n      <td>2</td>\n      <td>1</td>\n      <td>2016</td>\n      <td>12</td>\n      <td>1</td>\n    </tr>\n  </tbody>\n</table>\n<p>82304 rows × 24 columns</p>\n</div>"
     },
     "execution_count": 1580,
     "metadata": {},
     "output_type": "execute_result"
    }
   ],
   "source": [
    "df"
   ],
   "metadata": {
    "collapsed": false,
    "ExecuteTime": {
     "end_time": "2023-06-16T05:21:34.566831Z",
     "start_time": "2023-06-16T05:21:34.074209Z"
    }
   }
  },
  {
   "cell_type": "markdown",
   "source": [
    "# Data Modeling\n",
    "\n"
   ],
   "metadata": {
    "collapsed": false
   }
  },
  {
   "cell_type": "markdown",
   "source": [
    "## Our aim is to build a model that would predict a customer's response to a particular promotion.\n",
    "\n",
    "This is a classification problem as we are predicting whether the offer will be completed or not. Hence, we will be using classification algorithms\n",
    "\n",
    "The algorithms we will be using are\n",
    "1. Random Forest\n",
    "2. Naive Bayes\n",
    "3. Logistic Regression\n",
    "4. Decision Tree\n",
    "5. Support Vector Machines (SVM)\n",
    "6. K-Nearest Neighbors (KNN):\n",
    "\n",
    "We will first apply baseline modeling and the algorithm with the highest accuracy, we will try to improve it by hyperparameter tuning."
   ],
   "metadata": {
    "collapsed": false
   }
  },
  {
   "cell_type": "code",
   "execution_count": 1631,
   "outputs": [],
   "source": [
    "# Features\n",
    "X = df[['difficulty','reward','email','mobile','social','web','bogo','discount','informational','female','male','other_gender','age_bins','income_bins' ,'member_year','member_month']]\n",
    "\n",
    "# Labels\n",
    "y = df['event_result'].ravel()\n",
    "\n",
    "X_train,X_test,y_train,y_test = train_test_split(X,y, test_size = 0.3, random_state=42)"
   ],
   "metadata": {
    "collapsed": false,
    "ExecuteTime": {
     "end_time": "2023-06-16T07:19:48.470323Z",
     "start_time": "2023-06-16T07:19:48.430150Z"
    }
   }
  },
  {
   "cell_type": "code",
   "execution_count": 1633,
   "outputs": [],
   "source": [
    "# Minmax scaling of the data\n",
    "scaler_x= MinMaxScaler()\n",
    "scaler_y = MinMaxScaler()\n",
    "\n",
    "X_train_min_max = scaler_x.fit_transform(X_train)\n",
    "y_train_min_max = scaler_y.fit_transform(y_train.reshape(-1,1))\n",
    "\n",
    "X_test_min_max = scaler_x.transform(X_test)\n",
    "y_test_min_max = scaler_y.transform(y_test.reshape(-1,1))"
   ],
   "metadata": {
    "collapsed": false,
    "ExecuteTime": {
     "end_time": "2023-06-16T07:20:02.371607Z",
     "start_time": "2023-06-16T07:20:02.319750Z"
    }
   }
  },
  {
   "cell_type": "markdown",
   "source": [
    "# Baseline Modeling"
   ],
   "metadata": {
    "collapsed": false
   }
  },
  {
   "cell_type": "code",
   "execution_count": 1616,
   "outputs": [
    {
     "data": {
      "text/plain": "{'Random Forest': 56.180139316377776,\n 'Logistic Regression': 63.380852097845455,\n 'SVM': 63.623845780009724,\n 'Naive Bayes': 50.52243641665317,\n 'Decision Tree': 56.26518710513526,\n 'KNN': 56.520330471407746}"
     },
     "execution_count": 1616,
     "metadata": {},
     "output_type": "execute_result"
    }
   ],
   "source": [
    "# Define the models\n",
    "\n",
    "all_models = {\n",
    "    \"Random Forest\": RandomForestClassifier(),\n",
    "    \"Logistic Regression\": LogisticRegression(),\n",
    "    \"SVM\": SVC(),\n",
    "    \"Naive Bayes\": GaussianNB(),\n",
    "    \"Decision Tree\": DecisionTreeClassifier(),\n",
    "    \"KNN\": KNeighborsClassifier()\n",
    "}\n",
    "\n",
    "all_scores = dict()\n",
    "\n",
    "for key,value in all_models.items():\n",
    "    value.fit(X_train_min_max,y_train)\n",
    "    value.predict(X_test_min_max)\n",
    "    score = (value.score(X_test_min_max,y_test))*100\n",
    "    all_scores[key] = score\n",
    "all_scores"
   ],
   "metadata": {
    "collapsed": false,
    "ExecuteTime": {
     "end_time": "2023-06-16T06:56:58.828641Z",
     "start_time": "2023-06-16T06:47:37.832414Z"
    }
   }
  },
  {
   "cell_type": "code",
   "execution_count": 1694,
   "outputs": [
    {
     "data": {
      "text/plain": "<Figure size 1000x600 with 1 Axes>",
      "image/png": "[encoded data removed]"
     },
     "metadata": {},
     "output_type": "display_data"
    }
   ],
   "source": [
    "# Plotting the bar chart for all models\n",
    "all_scores_df = pd.DataFrame.from_dict(all_scores, orient='index', columns=['Score'])\n",
    "all_scores_df.index.name = 'Model'\n",
    "\n",
    "plt.figure(figsize=(10, 6))\n",
    "plt.bar(all_scores_df.index, all_scores_df['Score'])\n",
    "plt.xlabel('Model')\n",
    "plt.ylabel('Score')\n",
    "plt.title('Model Scores')\n",
    "plt.xticks(rotation=45)\n",
    "plt.grid(None)\n",
    "plt.show()"
   ],
   "metadata": {
    "collapsed": false,
    "ExecuteTime": {
     "end_time": "2023-06-17T07:08:00.744929Z",
     "start_time": "2023-06-17T07:08:00.534237Z"
    }
   }
  },
  {
   "cell_type": "markdown",
   "source": [
    "SVM and Logistic Regression outperforms other models with the accuracy scores of 63.62%. and 63.38% respectively.\n",
    "\n",
    "Now, first let's try to enhance SVM performance through hyperparameter tuning."
   ],
   "metadata": {
    "collapsed": false
   }
  },
  {
   "cell_type": "code",
   "execution_count": 1637,
   "outputs": [
    {
     "name": "stdout",
     "output_type": "stream",
     "text": [
      "Fitting 5 folds for each of 8 candidates, totalling 40 fits\n",
      "[CV] END ..svc__C=100, svc__gamma=0.0001, svc__kernel=linear; total time=29.7min\n",
      "[CV] END .svc__C=1000, svc__gamma=0.001, svc__kernel=sigmoid; total time=15.5min\n",
      "[CV] END svc__C=1000, svc__gamma=0.0001, svc__kernel=sigmoid; total time= 4.3min\n",
      "[CV] END svc__C=1000, svc__gamma=0.0001, svc__kernel=sigmoid; total time= 4.4min\n",
      "[CV] END ..svc__C=100, svc__gamma=0.001, svc__kernel=sigmoid; total time= 5.6min\n",
      "[CV] END .svc__C=100, svc__gamma=0.0001, svc__kernel=sigmoid; total time= 4.1min\n",
      "[CV] END .svc__C=100, svc__gamma=0.0001, svc__kernel=sigmoid; total time= 3.3min\n",
      "[CV] END ..svc__C=1000, svc__gamma=0.001, svc__kernel=linear; total time=42.5min\n",
      "[CV] END ...svc__C=100, svc__gamma=0.001, svc__kernel=linear; total time=29.7min\n",
      "[CV] END .svc__C=1000, svc__gamma=0.001, svc__kernel=sigmoid; total time=14.3min\n",
      "[CV] END svc__C=1000, svc__gamma=0.0001, svc__kernel=sigmoid; total time= 4.0min\n",
      "[CV] END svc__C=1000, svc__gamma=0.0001, svc__kernel=sigmoid; total time= 4.3min\n",
      "[CV] END svc__C=1000, svc__gamma=0.0001, svc__kernel=sigmoid; total time= 4.1min\n",
      "[CV] END ..svc__C=100, svc__gamma=0.0001, svc__kernel=linear; total time=24.0min\n",
      "[CV] END ..svc__C=1000, svc__gamma=0.001, svc__kernel=linear; total time=36.4min\n",
      "[CV] END ...svc__C=100, svc__gamma=0.001, svc__kernel=linear; total time=24.0min\n",
      "[CV] END ..svc__C=1000, svc__gamma=0.001, svc__kernel=linear; total time=37.5min\n",
      "[CV] END ..svc__C=100, svc__gamma=0.001, svc__kernel=sigmoid; total time= 5.6min\n",
      "[CV] END .svc__C=100, svc__gamma=0.0001, svc__kernel=sigmoid; total time= 4.0min\n",
      "[CV] END .svc__C=100, svc__gamma=0.0001, svc__kernel=sigmoid; total time= 3.3min\n",
      "[CV] END .svc__C=100, svc__gamma=0.0001, svc__kernel=sigmoid; total time= 5.6min\n",
      "[CV] END ..svc__C=1000, svc__gamma=0.001, svc__kernel=linear; total time=43.6min\n",
      "[CV] END ...svc__C=100, svc__gamma=0.001, svc__kernel=linear; total time=23.2min\n",
      "[CV] END ..svc__C=1000, svc__gamma=0.001, svc__kernel=linear; total time=41.6min\n",
      "[CV] END ..svc__C=100, svc__gamma=0.001, svc__kernel=sigmoid; total time= 5.5min\n",
      "[CV] END ..svc__C=100, svc__gamma=0.0001, svc__kernel=linear; total time=27.5min\n",
      "[CV] END .svc__C=1000, svc__gamma=0.0001, svc__kernel=linear; total time=32.1min\n",
      "[CV] END ..svc__C=100, svc__gamma=0.001, svc__kernel=sigmoid; total time= 5.5min\n",
      "[CV] END ..svc__C=100, svc__gamma=0.0001, svc__kernel=linear; total time=27.8min\n",
      "[CV] END .svc__C=1000, svc__gamma=0.0001, svc__kernel=linear; total time=33.0min\n",
      "[CV] END ..svc__C=100, svc__gamma=0.001, svc__kernel=sigmoid; total time= 5.5min\n",
      "[CV] END ..svc__C=100, svc__gamma=0.0001, svc__kernel=linear; total time=23.7min\n",
      "[CV] END .svc__C=1000, svc__gamma=0.001, svc__kernel=sigmoid; total time=14.6min\n",
      "[CV] END .svc__C=1000, svc__gamma=0.0001, svc__kernel=linear; total time=23.0min\n",
      "[CV] END ...svc__C=100, svc__gamma=0.001, svc__kernel=linear; total time=27.1min\n",
      "[CV] END .svc__C=1000, svc__gamma=0.001, svc__kernel=sigmoid; total time=16.3min\n",
      "[CV] END .svc__C=1000, svc__gamma=0.0001, svc__kernel=linear; total time=23.4min\n",
      "[CV] END ...svc__C=100, svc__gamma=0.001, svc__kernel=linear; total time=26.7min\n",
      "[CV] END .svc__C=1000, svc__gamma=0.001, svc__kernel=sigmoid; total time=15.3min\n",
      "[CV] END .svc__C=1000, svc__gamma=0.0001, svc__kernel=linear; total time=27.4min\n"
     ]
    }
   ],
   "source": [
    "# For SVM model\n",
    "\n",
    "# Create a pipeline\n",
    "pipe = Pipeline([('scaler', MinMaxScaler()),\n",
    "                 ('svc',SVC())])\n",
    "\n",
    "# Create space of candidate learning algorithms and their hyperparameters\n",
    "param_grid = {'svc__C': [ 100, 1000],\n",
    "              'svc__gamma': [ 0.001, 0.0001],\n",
    "              'svc__kernel': ['linear', 'sigmoid' ] }\n",
    "\n",
    "# Create randomized search 10-fold cross-validation and 100 iterations\n",
    "clf = RandomizedSearchCV(pipe, param_grid, cv=5, n_iter=100, n_jobs=-1,verbose=2)\n",
    "\n",
    "# Fit randomized search\n",
    "best_model = clf.fit(X_train, y_train)"
   ],
   "metadata": {
    "collapsed": false,
    "ExecuteTime": {
     "end_time": "2023-06-16T09:20:55.404742Z",
     "start_time": "2023-06-16T07:56:43.094048Z"
    }
   }
  },
  {
   "cell_type": "code",
   "execution_count": 1638,
   "outputs": [
    {
     "name": "stdout",
     "output_type": "stream",
     "text": [
      "Best Hyperparameters:\n",
      " {'memory': None, 'steps': [('scaler', MinMaxScaler()), ('svc', SVC(C=100, gamma=0.001, kernel='linear'))], 'verbose': False, 'scaler': MinMaxScaler(), 'svc': SVC(C=100, gamma=0.001, kernel='linear'), 'scaler__clip': False, 'scaler__copy': True, 'scaler__feature_range': (0, 1), 'svc__C': 100, 'svc__break_ties': False, 'svc__cache_size': 200, 'svc__class_weight': None, 'svc__coef0': 0.0, 'svc__decision_function_shape': 'ovr', 'svc__degree': 3, 'svc__gamma': 0.001, 'svc__kernel': 'linear', 'svc__max_iter': -1, 'svc__probability': False, 'svc__random_state': None, 'svc__shrinking': True, 'svc__tol': 0.001, 'svc__verbose': False}\n",
      "Best Score: 0.6333228865393972\n"
     ]
    }
   ],
   "source": [
    "# View the best model\n",
    "best_hyperparams = best_model.best_estimator_.get_params()\n",
    "print('Best Hyperparameters:\\n', best_hyperparams)\n",
    "\n",
    "# View the best score\n",
    "best_score = best_model.best_score_\n",
    "print('Best Score:', best_score)"
   ],
   "metadata": {
    "collapsed": false,
    "ExecuteTime": {
     "end_time": "2023-06-16T09:20:55.464830Z",
     "start_time": "2023-06-16T09:20:55.458936Z"
    }
   }
  },
  {
   "cell_type": "markdown",
   "source": [
    "The score indicates that the model correctly predicts 63.3% of the test data, which is better than random guessing."
   ],
   "metadata": {
    "collapsed": false
   }
  },
  {
   "cell_type": "code",
   "execution_count": 1709,
   "outputs": [
    {
     "name": "stdout",
     "output_type": "stream",
     "text": [
      "Fitting 7 folds for each of 75 candidates, totalling 525 fits\n",
      "Best Parameters:  {'logreg__C': 0.22564631610840102, 'logreg__penalty': 'l2', 'logreg__solver': 'liblinear'}\n",
      "Best Score:  0.6336180587143184\n"
     ]
    }
   ],
   "source": [
    "# For Logistic Regression\n",
    "log_pipeline = Pipeline([('scaler', MinMaxScaler()), ('logreg', LogisticRegression())])\n",
    "\n",
    "# Defining params\n",
    "log_param_grid = {\n",
    "    'logreg__C': uniform(loc=0, scale=4),\n",
    "    'logreg__penalty': ['l1', 'l2', 'elastic-net'],\n",
    "    'logreg__solver': ['newton-cg', 'liblinear']\n",
    "}\n",
    "\n",
    "# Initialize RandomizedSearchCV\n",
    "log_random_cv = RandomizedSearchCV(log_pipeline,param_distributions=log_param_grid,n_iter=75,cv=7,verbose=2,n_jobs=-1,random_state=42)\n",
    "\n",
    "# Fitting the model\n",
    "log_random_cv.fit(X_train,y_train)\n",
    "\n",
    "# Printing the best parameters\n",
    "print(\"Best Parameters: \", log_random_cv.best_params_)\n",
    "\n",
    "# Printing the best score\n",
    "print(\"Best Score: \", log_random_cv.best_score_)"
   ],
   "metadata": {
    "collapsed": false,
    "ExecuteTime": {
     "end_time": "2023-06-17T07:45:53.576106Z",
     "start_time": "2023-06-17T07:41:03.108939Z"
    }
   }
  },
  {
   "cell_type": "markdown",
   "source": [
    "After performing hyperparameter tuning for both Logistic Regression and SVM models, no significant improvement was observed in the model's performance.\n",
    "\n",
    "Note: The lack of improvement after hyperparameter tuning does not actually imply that the models are ineffective or poorly performing. It simply means that the default hyperparameter settings were already performing well, and the incremental adjustments made during tuning did not result in a noticeable increase in scores.\n",
    "\n",
    "\n",
    "We are going forward with SVM results as there is no major difference between the scores."
   ],
   "metadata": {
    "collapsed": false
   }
  },
  {
   "cell_type": "markdown",
   "source": [
    "## Classification Report"
   ],
   "metadata": {
    "collapsed": false
   }
  },
  {
   "cell_type": "code",
   "execution_count": 1677,
   "outputs": [
    {
     "data": {
      "text/plain": "<Figure size 640x480 with 2 Axes>",
      "image/png": "[encoded data removed]"
     },
     "metadata": {},
     "output_type": "display_data"
    },
    {
     "name": "stdout",
     "output_type": "stream",
     "text": [
      "              precision    recall  f1-score   support\n",
      "\n",
      "           0       0.66      0.82      0.73     15066\n",
      "           1       0.55      0.35      0.43      9626\n",
      "\n",
      "    accuracy                           0.64     24692\n",
      "   macro avg       0.61      0.58      0.58     24692\n",
      "weighted avg       0.62      0.64      0.61     24692\n",
      "\n"
     ]
    }
   ],
   "source": [
    "y_pred = clf.predict(X_test)\n",
    "\n",
    "# Calculate confusion matrix\n",
    "cm = confusion_matrix(y_test, y_pred)\n",
    "\n",
    "# Create heatmap\n",
    "sns.heatmap(cm, annot=True, fmt='d', cmap='Blues')\n",
    "\n",
    "# Add labels and title\n",
    "plt.ylabel('True Label')\n",
    "plt.xlabel('Predicted Label')\n",
    "plt.title('Confusion Matrix')\n",
    "plt.show()\n",
    "\n",
    "print(classification_report(y_test, y_pred))"
   ],
   "metadata": {
    "collapsed": false,
    "ExecuteTime": {
     "end_time": "2023-06-17T06:41:15.645447Z",
     "start_time": "2023-06-17T06:40:39.700371Z"
    }
   }
  },
  {
   "cell_type": "markdown",
   "source": [
    "In summary, we correctly predicted the class label for 12282 + 3402 = 15684 instances and made mistakes on 2784 + 6224 = 9008 instances."
   ],
   "metadata": {
    "collapsed": false
   }
  },
  {
   "cell_type": "code",
   "execution_count": 1650,
   "outputs": [
    {
     "name": "stdout",
     "output_type": "stream",
     "text": [
      "AUC-ROC: 58.43\n"
     ]
    },
    {
     "data": {
      "text/plain": "<Figure size 640x480 with 1 Axes>",
      "image/png": "[encoded data removed]"
     },
     "metadata": {},
     "output_type": "display_data"
    }
   ],
   "source": [
    "# Computing ROC curve\n",
    "fpr, tpr, _ = roc_curve(y_test, y_pred)\n",
    "\n",
    "# Plotting ROC curve\n",
    "plt.plot(fpr, tpr, label='ROC curve')\n",
    "plt.plot([0, 1], [0, 1], linestyle='--')  # diagonal line\n",
    "plt.xlabel('False Positive Rate')\n",
    "plt.ylabel('True Positive Rate')\n",
    "plt.title('Receiver Operating Characteristic')\n",
    "plt.legend()\n",
    "\n",
    "# Calculating and display AUC-ROC\n",
    "roc_auc = auc(fpr, tpr)\n",
    "print('AUC-ROC:',(round( roc_auc*100,2)))"
   ],
   "metadata": {
    "collapsed": false,
    "ExecuteTime": {
     "end_time": "2023-06-16T10:09:47.737327Z",
     "start_time": "2023-06-16T10:09:47.339961Z"
    }
   }
  },
  {
   "cell_type": "markdown",
   "source": [
    " The AUC-ROC score is approximately 0.584. This indicates that our model has a modest ability to distinguish between the classes in your binary classification problem. In other words, given a random positive instance and a random negative instance, there's roughly a 58.4% chance that the model will rank the positive instance higher than the negative one."
   ],
   "metadata": {
    "collapsed": false
   }
  },
  {
   "cell_type": "code",
   "execution_count": null,
   "outputs": [],
   "source": [
    "call(['python', '-m', 'nbconvert', 'Starbucks_Capstone_notebook.ipynb', '--to', 'html'])"
   ],
   "metadata": {
    "collapsed": false,
    "is_executing": true,
    "ExecuteTime": {
     "start_time": "2023-06-19T09:43:58.722931Z"
    }
   }
  },
  {
   "cell_type": "markdown",
   "source": [
    "# Conclusion:\n",
    "\n",
    "1) In this project, I undertook an analysis of datasets provided by Starbucks with the aim of constructing a model capable of predicting whether a customer will complete an offer after viewing it.\n",
    "2) Initially, I examined each dataset, visualizing the data to gain a comprehensive understanding.\n",
    "3) This exploration involved dissecting various aspects of the datasets.\n",
    "4) Subsequently, I transitioned to the Data-Preprocessing phase.  I created several latent features to enhance the model's performance. These features were derived from original existing columns, but with a simplified value range.\n",
    " 5) I have created dummy variables for certain columns to avoid numerical bias when building a model.\n",
    "6) This step proved to be the most demanding in terms of time and effort, given the complex nature of the data.\n",
    " 7) It required me to employ my data wrangling, engineering, and preprocessing skills to derive the final clean versions of the three datasets.\n",
    "\n",
    "\n",
    "# Further Improvements:\n",
    "- As we can see, there is no significant change to the scores even after hyperparameter tuning both models; it is to be assumed that the dataset is imbalanced\n",
    "- Techniques such as SMOTE or random under sampling can help to balance the classes.\n",
    "- Techniques like bagging and boosting can help to improve the overall result by combining the predictions of multiple base estimators.\n",
    "- We could also try deep learning models for better results\n"
   ],
   "metadata": {
    "collapsed": false
   }
  },
  {
   "cell_type": "code",
   "execution_count": null,
   "outputs": [],
   "source": [],
   "metadata": {
    "collapsed": false
   }
  }
 ],
 "metadata": {
  "kernelspec": {
   "display_name": "Python 3",
   "language": "python",
   "name": "python3"
  },
  "language_info": {
   "codemirror_mode": {
    "name": "ipython",
    "version": 3
   },
   "file_extension": ".py",
   "mimetype": "text/x-python",
   "name": "python",
   "nbconvert_exporter": "python",
   "pygments_lexer": "ipython3",
   "version": "3.10.9"
  }
 },
 "nbformat": 4,
 "nbformat_minor": 2
}
